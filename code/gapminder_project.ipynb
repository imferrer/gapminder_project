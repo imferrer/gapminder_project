{
 "cells": [
  {
   "cell_type": "markdown",
   "id": "24cc3914-ac9e-4241-86fd-2b0f4ce3fb75",
   "metadata": {
    "tags": []
   },
   "source": [
    "## Gapminder Project Ismael Martínez"
   ]
  },
  {
   "cell_type": "markdown",
   "id": "3bc61ca5",
   "metadata": {},
   "source": [
    "### Data Exploratory Analysis of the Gapminder Dataset"
   ]
  },
  {
   "cell_type": "markdown",
   "id": "f5b4973b",
   "metadata": {},
   "source": [
    "The Data is obtained from the __[Gapminder Foundation](https://www.gapminder.org/data/)__.\n",
    "The focus will be on the development of life expectancy of a number of countries through time considering their population size and continent."
   ]
  },
  {
   "cell_type": "markdown",
   "id": "c79cd29b-a49b-47df-bd69-068dc5c6453e",
   "metadata": {},
   "source": [
    "#### Step 1 and Step 2\n",
    "Import libraries, load Files into pandas DataFrames:"
   ]
  },
  {
   "cell_type": "code",
   "execution_count": 1,
   "id": "850e9161-acc1-447f-900d-f212cb77f074",
   "metadata": {},
   "outputs": [],
   "source": [
    "import pandas as pd\n",
    "\n",
    "import seaborn as sns\n",
    "import matplotlib.pyplot as plt\n",
    "plt.style.use('seaborn-pastel')\n",
    "\n",
    "fert = pd.read_csv('../data/gapminder_total_fertility.csv', index_col=0)\n",
    "life = pd.read_excel('../data/gapminder_lifeexpectancy.xlsx', index_col=0)"
   ]
  },
  {
   "cell_type": "markdown",
   "id": "457d5869-66aa-44be-909c-ae9634aca65f",
   "metadata": {},
   "source": [
    "#### Step 3"
   ]
  },
  {
   "cell_type": "markdown",
   "id": "1f4b7c6b-7720-4810-b9fa-758368bff731",
   "metadata": {},
   "source": [
    "Check the shape of both tables:"
   ]
  },
  {
   "cell_type": "code",
   "execution_count": 3,
   "id": "b055c1fd-8b31-4d73-a2c2-4da7cae8a0ab",
   "metadata": {},
   "outputs": [
    {
     "name": "stdout",
     "output_type": "stream",
     "text": [
      "<class 'pandas.core.frame.DataFrame'>\n",
      "Index: 260 entries, Abkhazia to Åland\n",
      "Columns: 216 entries, 1800 to 2015\n",
      "dtypes: float64(216)\n",
      "memory usage: 440.8+ KB\n"
     ]
    },
    {
     "data": {
      "text/plain": [
       "(260, 216)"
      ]
     },
     "execution_count": 3,
     "metadata": {},
     "output_type": "execute_result"
    }
   ],
   "source": [
    "fert.info() #where are the NaNs?\n",
    "fert.shape"
   ]
  },
  {
   "cell_type": "code",
   "execution_count": 4,
   "id": "e33c07ad-b45e-432a-a64c-0f590e3496ab",
   "metadata": {},
   "outputs": [
    {
     "name": "stdout",
     "output_type": "stream",
     "text": [
      "<class 'pandas.core.frame.DataFrame'>\n",
      "Index: 260 entries, Abkhazia to South Sudan\n",
      "Columns: 217 entries, 1800.0 to 2016.0\n",
      "dtypes: float64(217)\n",
      "memory usage: 442.8+ KB\n"
     ]
    },
    {
     "data": {
      "text/plain": [
       "(260, 217)"
      ]
     },
     "execution_count": 4,
     "metadata": {},
     "output_type": "execute_result"
    }
   ],
   "source": [
    "life.info()\n",
    "life.shape"
   ]
  },
  {
   "cell_type": "code",
   "execution_count": 5,
   "id": "b03abee8-963a-44cd-b295-0c1f50417522",
   "metadata": {},
   "outputs": [
    {
     "data": {
      "text/html": [
       "<div>\n",
       "<style scoped>\n",
       "    .dataframe tbody tr th:only-of-type {\n",
       "        vertical-align: middle;\n",
       "    }\n",
       "\n",
       "    .dataframe tbody tr th {\n",
       "        vertical-align: top;\n",
       "    }\n",
       "\n",
       "    .dataframe thead th {\n",
       "        text-align: right;\n",
       "    }\n",
       "</style>\n",
       "<table border=\"1\" class=\"dataframe\">\n",
       "  <thead>\n",
       "    <tr style=\"text-align: right;\">\n",
       "      <th></th>\n",
       "      <th>1800</th>\n",
       "      <th>1801</th>\n",
       "      <th>1802</th>\n",
       "      <th>1803</th>\n",
       "      <th>1804</th>\n",
       "      <th>1805</th>\n",
       "      <th>1806</th>\n",
       "      <th>1807</th>\n",
       "      <th>1808</th>\n",
       "      <th>1809</th>\n",
       "      <th>...</th>\n",
       "      <th>2006</th>\n",
       "      <th>2007</th>\n",
       "      <th>2008</th>\n",
       "      <th>2009</th>\n",
       "      <th>2010</th>\n",
       "      <th>2011</th>\n",
       "      <th>2012</th>\n",
       "      <th>2013</th>\n",
       "      <th>2014</th>\n",
       "      <th>2015</th>\n",
       "    </tr>\n",
       "    <tr>\n",
       "      <th>Total fertility rate</th>\n",
       "      <th></th>\n",
       "      <th></th>\n",
       "      <th></th>\n",
       "      <th></th>\n",
       "      <th></th>\n",
       "      <th></th>\n",
       "      <th></th>\n",
       "      <th></th>\n",
       "      <th></th>\n",
       "      <th></th>\n",
       "      <th></th>\n",
       "      <th></th>\n",
       "      <th></th>\n",
       "      <th></th>\n",
       "      <th></th>\n",
       "      <th></th>\n",
       "      <th></th>\n",
       "      <th></th>\n",
       "      <th></th>\n",
       "      <th></th>\n",
       "      <th></th>\n",
       "    </tr>\n",
       "  </thead>\n",
       "  <tbody>\n",
       "    <tr>\n",
       "      <th>Abkhazia</th>\n",
       "      <td>NaN</td>\n",
       "      <td>NaN</td>\n",
       "      <td>NaN</td>\n",
       "      <td>NaN</td>\n",
       "      <td>NaN</td>\n",
       "      <td>NaN</td>\n",
       "      <td>NaN</td>\n",
       "      <td>NaN</td>\n",
       "      <td>NaN</td>\n",
       "      <td>NaN</td>\n",
       "      <td>...</td>\n",
       "      <td>NaN</td>\n",
       "      <td>NaN</td>\n",
       "      <td>NaN</td>\n",
       "      <td>NaN</td>\n",
       "      <td>NaN</td>\n",
       "      <td>NaN</td>\n",
       "      <td>NaN</td>\n",
       "      <td>NaN</td>\n",
       "      <td>NaN</td>\n",
       "      <td>NaN</td>\n",
       "    </tr>\n",
       "    <tr>\n",
       "      <th>Afghanistan</th>\n",
       "      <td>7.0</td>\n",
       "      <td>7.0</td>\n",
       "      <td>7.0</td>\n",
       "      <td>7.0</td>\n",
       "      <td>7.0</td>\n",
       "      <td>7.0</td>\n",
       "      <td>7.0</td>\n",
       "      <td>7.0</td>\n",
       "      <td>7.0</td>\n",
       "      <td>7.0</td>\n",
       "      <td>...</td>\n",
       "      <td>6.7</td>\n",
       "      <td>6.46</td>\n",
       "      <td>6.2</td>\n",
       "      <td>5.93</td>\n",
       "      <td>5.66</td>\n",
       "      <td>5.4</td>\n",
       "      <td>5.14</td>\n",
       "      <td>4.9</td>\n",
       "      <td>4.68</td>\n",
       "      <td>4.47</td>\n",
       "    </tr>\n",
       "    <tr>\n",
       "      <th>Akrotiri and Dhekelia</th>\n",
       "      <td>NaN</td>\n",
       "      <td>NaN</td>\n",
       "      <td>NaN</td>\n",
       "      <td>NaN</td>\n",
       "      <td>NaN</td>\n",
       "      <td>NaN</td>\n",
       "      <td>NaN</td>\n",
       "      <td>NaN</td>\n",
       "      <td>NaN</td>\n",
       "      <td>NaN</td>\n",
       "      <td>...</td>\n",
       "      <td>NaN</td>\n",
       "      <td>NaN</td>\n",
       "      <td>NaN</td>\n",
       "      <td>NaN</td>\n",
       "      <td>NaN</td>\n",
       "      <td>NaN</td>\n",
       "      <td>NaN</td>\n",
       "      <td>NaN</td>\n",
       "      <td>NaN</td>\n",
       "      <td>NaN</td>\n",
       "    </tr>\n",
       "  </tbody>\n",
       "</table>\n",
       "<p>3 rows × 216 columns</p>\n",
       "</div>"
      ],
      "text/plain": [
       "                       1800  1801  1802  1803  1804  1805  1806  1807  1808  \\\n",
       "Total fertility rate                                                          \n",
       "Abkhazia                NaN   NaN   NaN   NaN   NaN   NaN   NaN   NaN   NaN   \n",
       "Afghanistan             7.0   7.0   7.0   7.0   7.0   7.0   7.0   7.0   7.0   \n",
       "Akrotiri and Dhekelia   NaN   NaN   NaN   NaN   NaN   NaN   NaN   NaN   NaN   \n",
       "\n",
       "                       1809  ...  2006  2007  2008  2009  2010  2011  2012  \\\n",
       "Total fertility rate         ...                                             \n",
       "Abkhazia                NaN  ...   NaN   NaN   NaN   NaN   NaN   NaN   NaN   \n",
       "Afghanistan             7.0  ...   6.7  6.46   6.2  5.93  5.66   5.4  5.14   \n",
       "Akrotiri and Dhekelia   NaN  ...   NaN   NaN   NaN   NaN   NaN   NaN   NaN   \n",
       "\n",
       "                       2013  2014  2015  \n",
       "Total fertility rate                     \n",
       "Abkhazia                NaN   NaN   NaN  \n",
       "Afghanistan             4.9  4.68  4.47  \n",
       "Akrotiri and Dhekelia   NaN   NaN   NaN  \n",
       "\n",
       "[3 rows x 216 columns]"
      ]
     },
     "execution_count": 5,
     "metadata": {},
     "output_type": "execute_result"
    }
   ],
   "source": [
    "fert.head(3)"
   ]
  },
  {
   "cell_type": "code",
   "execution_count": 6,
   "id": "2cc93cc8-d672-4b0a-b493-6be90ae85c4b",
   "metadata": {},
   "outputs": [
    {
     "data": {
      "text/html": [
       "<div>\n",
       "<style scoped>\n",
       "    .dataframe tbody tr th:only-of-type {\n",
       "        vertical-align: middle;\n",
       "    }\n",
       "\n",
       "    .dataframe tbody tr th {\n",
       "        vertical-align: top;\n",
       "    }\n",
       "\n",
       "    .dataframe thead th {\n",
       "        text-align: right;\n",
       "    }\n",
       "</style>\n",
       "<table border=\"1\" class=\"dataframe\">\n",
       "  <thead>\n",
       "    <tr style=\"text-align: right;\">\n",
       "      <th></th>\n",
       "      <th>1800.0</th>\n",
       "      <th>1801.0</th>\n",
       "      <th>1802.0</th>\n",
       "      <th>1803.0</th>\n",
       "      <th>1804.0</th>\n",
       "      <th>1805.0</th>\n",
       "      <th>1806.0</th>\n",
       "      <th>1807.0</th>\n",
       "      <th>1808.0</th>\n",
       "      <th>1809.0</th>\n",
       "      <th>...</th>\n",
       "      <th>2007.0</th>\n",
       "      <th>2008.0</th>\n",
       "      <th>2009.0</th>\n",
       "      <th>2010.0</th>\n",
       "      <th>2011.0</th>\n",
       "      <th>2012.0</th>\n",
       "      <th>2013.0</th>\n",
       "      <th>2014.0</th>\n",
       "      <th>2015.0</th>\n",
       "      <th>2016.0</th>\n",
       "    </tr>\n",
       "    <tr>\n",
       "      <th>Life expectancy</th>\n",
       "      <th></th>\n",
       "      <th></th>\n",
       "      <th></th>\n",
       "      <th></th>\n",
       "      <th></th>\n",
       "      <th></th>\n",
       "      <th></th>\n",
       "      <th></th>\n",
       "      <th></th>\n",
       "      <th></th>\n",
       "      <th></th>\n",
       "      <th></th>\n",
       "      <th></th>\n",
       "      <th></th>\n",
       "      <th></th>\n",
       "      <th></th>\n",
       "      <th></th>\n",
       "      <th></th>\n",
       "      <th></th>\n",
       "      <th></th>\n",
       "      <th></th>\n",
       "    </tr>\n",
       "  </thead>\n",
       "  <tbody>\n",
       "    <tr>\n",
       "      <th>Abkhazia</th>\n",
       "      <td>NaN</td>\n",
       "      <td>NaN</td>\n",
       "      <td>NaN</td>\n",
       "      <td>NaN</td>\n",
       "      <td>NaN</td>\n",
       "      <td>NaN</td>\n",
       "      <td>NaN</td>\n",
       "      <td>NaN</td>\n",
       "      <td>NaN</td>\n",
       "      <td>NaN</td>\n",
       "      <td>...</td>\n",
       "      <td>NaN</td>\n",
       "      <td>NaN</td>\n",
       "      <td>NaN</td>\n",
       "      <td>NaN</td>\n",
       "      <td>NaN</td>\n",
       "      <td>NaN</td>\n",
       "      <td>NaN</td>\n",
       "      <td>NaN</td>\n",
       "      <td>NaN</td>\n",
       "      <td>NaN</td>\n",
       "    </tr>\n",
       "    <tr>\n",
       "      <th>Afghanistan</th>\n",
       "      <td>28.21</td>\n",
       "      <td>28.2</td>\n",
       "      <td>28.19</td>\n",
       "      <td>28.18</td>\n",
       "      <td>28.17</td>\n",
       "      <td>28.16</td>\n",
       "      <td>28.15</td>\n",
       "      <td>28.14</td>\n",
       "      <td>28.13</td>\n",
       "      <td>28.12</td>\n",
       "      <td>...</td>\n",
       "      <td>52.4</td>\n",
       "      <td>52.8</td>\n",
       "      <td>53.3</td>\n",
       "      <td>53.6</td>\n",
       "      <td>54.0</td>\n",
       "      <td>54.4</td>\n",
       "      <td>54.8</td>\n",
       "      <td>54.9</td>\n",
       "      <td>53.8</td>\n",
       "      <td>52.72</td>\n",
       "    </tr>\n",
       "    <tr>\n",
       "      <th>Akrotiri and Dhekelia</th>\n",
       "      <td>NaN</td>\n",
       "      <td>NaN</td>\n",
       "      <td>NaN</td>\n",
       "      <td>NaN</td>\n",
       "      <td>NaN</td>\n",
       "      <td>NaN</td>\n",
       "      <td>NaN</td>\n",
       "      <td>NaN</td>\n",
       "      <td>NaN</td>\n",
       "      <td>NaN</td>\n",
       "      <td>...</td>\n",
       "      <td>NaN</td>\n",
       "      <td>NaN</td>\n",
       "      <td>NaN</td>\n",
       "      <td>NaN</td>\n",
       "      <td>NaN</td>\n",
       "      <td>NaN</td>\n",
       "      <td>NaN</td>\n",
       "      <td>NaN</td>\n",
       "      <td>NaN</td>\n",
       "      <td>NaN</td>\n",
       "    </tr>\n",
       "  </tbody>\n",
       "</table>\n",
       "<p>3 rows × 217 columns</p>\n",
       "</div>"
      ],
      "text/plain": [
       "                       1800.0  1801.0  1802.0  1803.0  1804.0  1805.0  1806.0  \\\n",
       "Life expectancy                                                                 \n",
       "Abkhazia                  NaN     NaN     NaN     NaN     NaN     NaN     NaN   \n",
       "Afghanistan             28.21    28.2   28.19   28.18   28.17   28.16   28.15   \n",
       "Akrotiri and Dhekelia     NaN     NaN     NaN     NaN     NaN     NaN     NaN   \n",
       "\n",
       "                       1807.0  1808.0  1809.0  ...  2007.0  2008.0  2009.0  \\\n",
       "Life expectancy                                ...                           \n",
       "Abkhazia                  NaN     NaN     NaN  ...     NaN     NaN     NaN   \n",
       "Afghanistan             28.14   28.13   28.12  ...    52.4    52.8    53.3   \n",
       "Akrotiri and Dhekelia     NaN     NaN     NaN  ...     NaN     NaN     NaN   \n",
       "\n",
       "                       2010.0  2011.0  2012.0  2013.0  2014.0  2015.0  2016.0  \n",
       "Life expectancy                                                                \n",
       "Abkhazia                  NaN     NaN     NaN     NaN     NaN     NaN     NaN  \n",
       "Afghanistan              53.6    54.0    54.4    54.8    54.9    53.8   52.72  \n",
       "Akrotiri and Dhekelia     NaN     NaN     NaN     NaN     NaN     NaN     NaN  \n",
       "\n",
       "[3 rows x 217 columns]"
      ]
     },
     "execution_count": 6,
     "metadata": {},
     "output_type": "execute_result"
    }
   ],
   "source": [
    "life.head(3)"
   ]
  },
  {
   "cell_type": "markdown",
   "id": "e27bede1-9271-47f3-87cc-88bc2fd9236b",
   "metadata": {
    "tags": []
   },
   "source": [
    "#### Step 4"
   ]
  },
  {
   "cell_type": "markdown",
   "id": "c4782550-0e66-47d7-ad86-538bcc67c737",
   "metadata": {},
   "source": [
    "Examining columns:"
   ]
  },
  {
   "cell_type": "code",
   "execution_count": 7,
   "id": "82aa20c5-67f5-48ac-8ba8-840b49c5634c",
   "metadata": {},
   "outputs": [
    {
     "data": {
      "text/plain": [
       "Index(['1800', '1801', '1802', '1803', '1804', '1805', '1806', '1807', '1808',\n",
       "       '1809',\n",
       "       ...\n",
       "       '2006', '2007', '2008', '2009', '2010', '2011', '2012', '2013', '2014',\n",
       "       '2015'],\n",
       "      dtype='object', length=216)"
      ]
     },
     "execution_count": 7,
     "metadata": {},
     "output_type": "execute_result"
    }
   ],
   "source": [
    "fert.columns"
   ]
  },
  {
   "cell_type": "code",
   "execution_count": 8,
   "id": "0b9c0acf-29b6-4a56-a3a9-04c7424b2857",
   "metadata": {},
   "outputs": [
    {
     "data": {
      "text/plain": [
       "str"
      ]
     },
     "execution_count": 8,
     "metadata": {},
     "output_type": "execute_result"
    }
   ],
   "source": [
    "type (fert.columns[6]) #it's actually a string"
   ]
  },
  {
   "cell_type": "code",
   "execution_count": 9,
   "id": "d57c2557-8ebd-4e48-a149-7d4e7f08cd22",
   "metadata": {},
   "outputs": [
    {
     "data": {
      "text/plain": [
       "Float64Index([1800.0, 1801.0, 1802.0, 1803.0, 1804.0, 1805.0, 1806.0, 1807.0,\n",
       "              1808.0, 1809.0,\n",
       "              ...\n",
       "              2007.0, 2008.0, 2009.0, 2010.0, 2011.0, 2012.0, 2013.0, 2014.0,\n",
       "              2015.0, 2016.0],\n",
       "             dtype='float64', length=217)"
      ]
     },
     "execution_count": 9,
     "metadata": {},
     "output_type": "execute_result"
    }
   ],
   "source": [
    "life.columns"
   ]
  },
  {
   "cell_type": "code",
   "execution_count": 10,
   "id": "a1834c7e-3349-422c-87a4-22d58b6b850b",
   "metadata": {},
   "outputs": [],
   "source": [
    "fert.columns=fert.columns.astype(float) #they're easy to change here"
   ]
  },
  {
   "cell_type": "code",
   "execution_count": 11,
   "id": "48c2e1d4-4b66-4801-b295-95104234eb53",
   "metadata": {},
   "outputs": [
    {
     "data": {
      "text/plain": [
       "Float64Index([1800.0, 1801.0, 1802.0, 1803.0, 1804.0, 1805.0, 1806.0, 1807.0,\n",
       "              1808.0, 1809.0,\n",
       "              ...\n",
       "              2006.0, 2007.0, 2008.0, 2009.0, 2010.0, 2011.0, 2012.0, 2013.0,\n",
       "              2014.0, 2015.0],\n",
       "             dtype='float64', length=216)"
      ]
     },
     "execution_count": 11,
     "metadata": {},
     "output_type": "execute_result"
    }
   ],
   "source": [
    "fert.columns"
   ]
  },
  {
   "cell_type": "markdown",
   "id": "b1a9b924-ce2d-4fc0-900a-ee6a2b677131",
   "metadata": {
    "tags": []
   },
   "source": [
    "#### Step 5"
   ]
  },
  {
   "cell_type": "markdown",
   "id": "7b008d57-e3b6-4bf8-8cc2-778a706b4c03",
   "metadata": {},
   "source": [
    "Check row index of the table and set the right index name:"
   ]
  },
  {
   "cell_type": "code",
   "execution_count": 12,
   "id": "5c0d9452-c18a-436f-8c36-5c60c4e6bab5",
   "metadata": {},
   "outputs": [
    {
     "data": {
      "text/plain": [
       "Index(['Abkhazia', 'Afghanistan', 'Akrotiri and Dhekelia', 'Albania',\n",
       "       'Algeria', 'American Samoa', 'Andorra', 'Angola', 'Anguilla',\n",
       "       'Antigua and Barbuda',\n",
       "       ...\n",
       "       'Vietnam', 'Virgin Islands (U.S.)', 'North Yemen (former)',\n",
       "       'South Yemen (former)', 'Yemen', 'Yugoslavia', 'Zambia', 'Zimbabwe',\n",
       "       'Åland', 'Åland'],\n",
       "      dtype='object', name='Total fertility rate', length=260)"
      ]
     },
     "execution_count": 12,
     "metadata": {},
     "output_type": "execute_result"
    }
   ],
   "source": [
    "fert.index"
   ]
  },
  {
   "cell_type": "markdown",
   "id": "b32d2596-6d87-46f1-900a-d863239775df",
   "metadata": {},
   "source": [
    "Change the name of the index to 'country':"
   ]
  },
  {
   "cell_type": "code",
   "execution_count": 13,
   "id": "f888eedb-5073-4035-ac14-7a75d6bfbf99",
   "metadata": {},
   "outputs": [],
   "source": [
    "fert.index.name = 'country'"
   ]
  },
  {
   "cell_type": "code",
   "execution_count": 14,
   "id": "3a4c8558-a54c-4880-b6c4-c924ba0ae6da",
   "metadata": {},
   "outputs": [
    {
     "data": {
      "text/html": [
       "<div>\n",
       "<style scoped>\n",
       "    .dataframe tbody tr th:only-of-type {\n",
       "        vertical-align: middle;\n",
       "    }\n",
       "\n",
       "    .dataframe tbody tr th {\n",
       "        vertical-align: top;\n",
       "    }\n",
       "\n",
       "    .dataframe thead th {\n",
       "        text-align: right;\n",
       "    }\n",
       "</style>\n",
       "<table border=\"1\" class=\"dataframe\">\n",
       "  <thead>\n",
       "    <tr style=\"text-align: right;\">\n",
       "      <th></th>\n",
       "      <th>1800.0</th>\n",
       "      <th>1801.0</th>\n",
       "      <th>1802.0</th>\n",
       "      <th>1803.0</th>\n",
       "      <th>1804.0</th>\n",
       "      <th>1805.0</th>\n",
       "      <th>1806.0</th>\n",
       "      <th>1807.0</th>\n",
       "      <th>1808.0</th>\n",
       "      <th>1809.0</th>\n",
       "      <th>...</th>\n",
       "      <th>2006.0</th>\n",
       "      <th>2007.0</th>\n",
       "      <th>2008.0</th>\n",
       "      <th>2009.0</th>\n",
       "      <th>2010.0</th>\n",
       "      <th>2011.0</th>\n",
       "      <th>2012.0</th>\n",
       "      <th>2013.0</th>\n",
       "      <th>2014.0</th>\n",
       "      <th>2015.0</th>\n",
       "    </tr>\n",
       "    <tr>\n",
       "      <th>country</th>\n",
       "      <th></th>\n",
       "      <th></th>\n",
       "      <th></th>\n",
       "      <th></th>\n",
       "      <th></th>\n",
       "      <th></th>\n",
       "      <th></th>\n",
       "      <th></th>\n",
       "      <th></th>\n",
       "      <th></th>\n",
       "      <th></th>\n",
       "      <th></th>\n",
       "      <th></th>\n",
       "      <th></th>\n",
       "      <th></th>\n",
       "      <th></th>\n",
       "      <th></th>\n",
       "      <th></th>\n",
       "      <th></th>\n",
       "      <th></th>\n",
       "      <th></th>\n",
       "    </tr>\n",
       "  </thead>\n",
       "  <tbody>\n",
       "    <tr>\n",
       "      <th>Abkhazia</th>\n",
       "      <td>NaN</td>\n",
       "      <td>NaN</td>\n",
       "      <td>NaN</td>\n",
       "      <td>NaN</td>\n",
       "      <td>NaN</td>\n",
       "      <td>NaN</td>\n",
       "      <td>NaN</td>\n",
       "      <td>NaN</td>\n",
       "      <td>NaN</td>\n",
       "      <td>NaN</td>\n",
       "      <td>...</td>\n",
       "      <td>NaN</td>\n",
       "      <td>NaN</td>\n",
       "      <td>NaN</td>\n",
       "      <td>NaN</td>\n",
       "      <td>NaN</td>\n",
       "      <td>NaN</td>\n",
       "      <td>NaN</td>\n",
       "      <td>NaN</td>\n",
       "      <td>NaN</td>\n",
       "      <td>NaN</td>\n",
       "    </tr>\n",
       "    <tr>\n",
       "      <th>Afghanistan</th>\n",
       "      <td>7.0</td>\n",
       "      <td>7.0</td>\n",
       "      <td>7.0</td>\n",
       "      <td>7.0</td>\n",
       "      <td>7.0</td>\n",
       "      <td>7.0</td>\n",
       "      <td>7.0</td>\n",
       "      <td>7.0</td>\n",
       "      <td>7.0</td>\n",
       "      <td>7.0</td>\n",
       "      <td>...</td>\n",
       "      <td>6.7</td>\n",
       "      <td>6.46</td>\n",
       "      <td>6.2</td>\n",
       "      <td>5.93</td>\n",
       "      <td>5.66</td>\n",
       "      <td>5.4</td>\n",
       "      <td>5.14</td>\n",
       "      <td>4.9</td>\n",
       "      <td>4.68</td>\n",
       "      <td>4.47</td>\n",
       "    </tr>\n",
       "    <tr>\n",
       "      <th>Akrotiri and Dhekelia</th>\n",
       "      <td>NaN</td>\n",
       "      <td>NaN</td>\n",
       "      <td>NaN</td>\n",
       "      <td>NaN</td>\n",
       "      <td>NaN</td>\n",
       "      <td>NaN</td>\n",
       "      <td>NaN</td>\n",
       "      <td>NaN</td>\n",
       "      <td>NaN</td>\n",
       "      <td>NaN</td>\n",
       "      <td>...</td>\n",
       "      <td>NaN</td>\n",
       "      <td>NaN</td>\n",
       "      <td>NaN</td>\n",
       "      <td>NaN</td>\n",
       "      <td>NaN</td>\n",
       "      <td>NaN</td>\n",
       "      <td>NaN</td>\n",
       "      <td>NaN</td>\n",
       "      <td>NaN</td>\n",
       "      <td>NaN</td>\n",
       "    </tr>\n",
       "  </tbody>\n",
       "</table>\n",
       "<p>3 rows × 216 columns</p>\n",
       "</div>"
      ],
      "text/plain": [
       "                       1800.0  1801.0  1802.0  1803.0  1804.0  1805.0  1806.0  \\\n",
       "country                                                                         \n",
       "Abkhazia                  NaN     NaN     NaN     NaN     NaN     NaN     NaN   \n",
       "Afghanistan               7.0     7.0     7.0     7.0     7.0     7.0     7.0   \n",
       "Akrotiri and Dhekelia     NaN     NaN     NaN     NaN     NaN     NaN     NaN   \n",
       "\n",
       "                       1807.0  1808.0  1809.0  ...  2006.0  2007.0  2008.0  \\\n",
       "country                                        ...                           \n",
       "Abkhazia                  NaN     NaN     NaN  ...     NaN     NaN     NaN   \n",
       "Afghanistan               7.0     7.0     7.0  ...     6.7    6.46     6.2   \n",
       "Akrotiri and Dhekelia     NaN     NaN     NaN  ...     NaN     NaN     NaN   \n",
       "\n",
       "                       2009.0  2010.0  2011.0  2012.0  2013.0  2014.0  2015.0  \n",
       "country                                                                        \n",
       "Abkhazia                  NaN     NaN     NaN     NaN     NaN     NaN     NaN  \n",
       "Afghanistan              5.93    5.66     5.4    5.14     4.9    4.68    4.47  \n",
       "Akrotiri and Dhekelia     NaN     NaN     NaN     NaN     NaN     NaN     NaN  \n",
       "\n",
       "[3 rows x 216 columns]"
      ]
     },
     "execution_count": 14,
     "metadata": {},
     "output_type": "execute_result"
    }
   ],
   "source": [
    "fert.head(3)"
   ]
  },
  {
   "cell_type": "markdown",
   "id": "4e429f27-8db5-48b1-8e9e-6a99dac4d43b",
   "metadata": {},
   "source": [
    "#### Step 6"
   ]
  },
  {
   "cell_type": "markdown",
   "id": "5f9ecf8b-8f22-4ad7-9666-f5d283b733e9",
   "metadata": {},
   "source": [
    "Move row index into a column and convert to long format:"
   ]
  },
  {
   "cell_type": "code",
   "execution_count": 15,
   "id": "f57e81e9-4df6-4a16-86c0-cae26913226d",
   "metadata": {},
   "outputs": [],
   "source": [
    "fert = fert.reset_index()"
   ]
  },
  {
   "cell_type": "code",
   "execution_count": 16,
   "id": "1409dd64-f4a6-45d0-a409-c742cca5d17e",
   "metadata": {
    "tags": []
   },
   "outputs": [
    {
     "data": {
      "text/html": [
       "<div>\n",
       "<style scoped>\n",
       "    .dataframe tbody tr th:only-of-type {\n",
       "        vertical-align: middle;\n",
       "    }\n",
       "\n",
       "    .dataframe tbody tr th {\n",
       "        vertical-align: top;\n",
       "    }\n",
       "\n",
       "    .dataframe thead th {\n",
       "        text-align: right;\n",
       "    }\n",
       "</style>\n",
       "<table border=\"1\" class=\"dataframe\">\n",
       "  <thead>\n",
       "    <tr style=\"text-align: right;\">\n",
       "      <th></th>\n",
       "      <th>country</th>\n",
       "      <th>1800.0</th>\n",
       "      <th>1801.0</th>\n",
       "      <th>1802.0</th>\n",
       "      <th>1803.0</th>\n",
       "      <th>1804.0</th>\n",
       "      <th>1805.0</th>\n",
       "      <th>1806.0</th>\n",
       "      <th>1807.0</th>\n",
       "      <th>1808.0</th>\n",
       "      <th>...</th>\n",
       "      <th>2006.0</th>\n",
       "      <th>2007.0</th>\n",
       "      <th>2008.0</th>\n",
       "      <th>2009.0</th>\n",
       "      <th>2010.0</th>\n",
       "      <th>2011.0</th>\n",
       "      <th>2012.0</th>\n",
       "      <th>2013.0</th>\n",
       "      <th>2014.0</th>\n",
       "      <th>2015.0</th>\n",
       "    </tr>\n",
       "  </thead>\n",
       "  <tbody>\n",
       "    <tr>\n",
       "      <th>0</th>\n",
       "      <td>Abkhazia</td>\n",
       "      <td>NaN</td>\n",
       "      <td>NaN</td>\n",
       "      <td>NaN</td>\n",
       "      <td>NaN</td>\n",
       "      <td>NaN</td>\n",
       "      <td>NaN</td>\n",
       "      <td>NaN</td>\n",
       "      <td>NaN</td>\n",
       "      <td>NaN</td>\n",
       "      <td>...</td>\n",
       "      <td>NaN</td>\n",
       "      <td>NaN</td>\n",
       "      <td>NaN</td>\n",
       "      <td>NaN</td>\n",
       "      <td>NaN</td>\n",
       "      <td>NaN</td>\n",
       "      <td>NaN</td>\n",
       "      <td>NaN</td>\n",
       "      <td>NaN</td>\n",
       "      <td>NaN</td>\n",
       "    </tr>\n",
       "    <tr>\n",
       "      <th>1</th>\n",
       "      <td>Afghanistan</td>\n",
       "      <td>7.0</td>\n",
       "      <td>7.0</td>\n",
       "      <td>7.0</td>\n",
       "      <td>7.0</td>\n",
       "      <td>7.0</td>\n",
       "      <td>7.0</td>\n",
       "      <td>7.0</td>\n",
       "      <td>7.0</td>\n",
       "      <td>7.0</td>\n",
       "      <td>...</td>\n",
       "      <td>6.7</td>\n",
       "      <td>6.46</td>\n",
       "      <td>6.2</td>\n",
       "      <td>5.93</td>\n",
       "      <td>5.66</td>\n",
       "      <td>5.4</td>\n",
       "      <td>5.14</td>\n",
       "      <td>4.9</td>\n",
       "      <td>4.68</td>\n",
       "      <td>4.47</td>\n",
       "    </tr>\n",
       "    <tr>\n",
       "      <th>2</th>\n",
       "      <td>Akrotiri and Dhekelia</td>\n",
       "      <td>NaN</td>\n",
       "      <td>NaN</td>\n",
       "      <td>NaN</td>\n",
       "      <td>NaN</td>\n",
       "      <td>NaN</td>\n",
       "      <td>NaN</td>\n",
       "      <td>NaN</td>\n",
       "      <td>NaN</td>\n",
       "      <td>NaN</td>\n",
       "      <td>...</td>\n",
       "      <td>NaN</td>\n",
       "      <td>NaN</td>\n",
       "      <td>NaN</td>\n",
       "      <td>NaN</td>\n",
       "      <td>NaN</td>\n",
       "      <td>NaN</td>\n",
       "      <td>NaN</td>\n",
       "      <td>NaN</td>\n",
       "      <td>NaN</td>\n",
       "      <td>NaN</td>\n",
       "    </tr>\n",
       "  </tbody>\n",
       "</table>\n",
       "<p>3 rows × 217 columns</p>\n",
       "</div>"
      ],
      "text/plain": [
       "                 country  1800.0  1801.0  1802.0  1803.0  1804.0  1805.0  \\\n",
       "0               Abkhazia     NaN     NaN     NaN     NaN     NaN     NaN   \n",
       "1            Afghanistan     7.0     7.0     7.0     7.0     7.0     7.0   \n",
       "2  Akrotiri and Dhekelia     NaN     NaN     NaN     NaN     NaN     NaN   \n",
       "\n",
       "   1806.0  1807.0  1808.0  ...  2006.0  2007.0  2008.0  2009.0  2010.0  \\\n",
       "0     NaN     NaN     NaN  ...     NaN     NaN     NaN     NaN     NaN   \n",
       "1     7.0     7.0     7.0  ...     6.7    6.46     6.2    5.93    5.66   \n",
       "2     NaN     NaN     NaN  ...     NaN     NaN     NaN     NaN     NaN   \n",
       "\n",
       "   2011.0  2012.0  2013.0  2014.0  2015.0  \n",
       "0     NaN     NaN     NaN     NaN     NaN  \n",
       "1     5.4    5.14     4.9    4.68    4.47  \n",
       "2     NaN     NaN     NaN     NaN     NaN  \n",
       "\n",
       "[3 rows x 217 columns]"
      ]
     },
     "execution_count": 16,
     "metadata": {},
     "output_type": "execute_result"
    }
   ],
   "source": [
    "fert.head(3)"
   ]
  },
  {
   "cell_type": "code",
   "execution_count": 17,
   "id": "e171338b-1b1e-4d68-a2f9-3fd452023b41",
   "metadata": {},
   "outputs": [
    {
     "data": {
      "text/plain": [
       "Index(['country',    1800.0,    1801.0,    1802.0,    1803.0,    1804.0,\n",
       "          1805.0,    1806.0,    1807.0,    1808.0,\n",
       "       ...\n",
       "          2006.0,    2007.0,    2008.0,    2009.0,    2010.0,    2011.0,\n",
       "          2012.0,    2013.0,    2014.0,    2015.0],\n",
       "      dtype='object', length=217)"
      ]
     },
     "execution_count": 17,
     "metadata": {},
     "output_type": "execute_result"
    }
   ],
   "source": [
    "fert.columns"
   ]
  },
  {
   "cell_type": "code",
   "execution_count": 18,
   "id": "91ca73e4-616b-4582-afd5-22b4c6a294f7",
   "metadata": {},
   "outputs": [
    {
     "data": {
      "text/plain": [
       "RangeIndex(start=0, stop=260, step=1)"
      ]
     },
     "execution_count": 18,
     "metadata": {},
     "output_type": "execute_result"
    }
   ],
   "source": [
    "fert.index"
   ]
  },
  {
   "cell_type": "code",
   "execution_count": 19,
   "id": "e96cb161-bd03-4510-b55e-1e801d8b6934",
   "metadata": {},
   "outputs": [],
   "source": [
    "#the next two lines work as an alternative to the two previous steps, resetting the index first\n",
    "#fert = fert.reset_index()\n",
    "#fert.rename(mapper={'Total fertility rate':\"country\"}, axis=1, inplace=True) #alternative, axis=1 represents columns"
   ]
  },
  {
   "cell_type": "code",
   "execution_count": 20,
   "id": "c6847285-2ecf-4b98-b135-c8629418662c",
   "metadata": {},
   "outputs": [],
   "source": [
    "wide_fert = fert.melt(\n",
    "            id_vars='country', #identifier variable\n",
    "            var_name='year', #column for all measured variables\n",
    "            value_name='fertility_rate') #column for their corresponding values"
   ]
  },
  {
   "cell_type": "code",
   "execution_count": 21,
   "id": "6e8d367d-3d1e-45a5-bc3e-b4ac2893c010",
   "metadata": {},
   "outputs": [
    {
     "data": {
      "text/html": [
       "<div>\n",
       "<style scoped>\n",
       "    .dataframe tbody tr th:only-of-type {\n",
       "        vertical-align: middle;\n",
       "    }\n",
       "\n",
       "    .dataframe tbody tr th {\n",
       "        vertical-align: top;\n",
       "    }\n",
       "\n",
       "    .dataframe thead th {\n",
       "        text-align: right;\n",
       "    }\n",
       "</style>\n",
       "<table border=\"1\" class=\"dataframe\">\n",
       "  <thead>\n",
       "    <tr style=\"text-align: right;\">\n",
       "      <th></th>\n",
       "      <th>country</th>\n",
       "      <th>year</th>\n",
       "      <th>fertility_rate</th>\n",
       "    </tr>\n",
       "  </thead>\n",
       "  <tbody>\n",
       "    <tr>\n",
       "      <th>0</th>\n",
       "      <td>Abkhazia</td>\n",
       "      <td>1800.0</td>\n",
       "      <td>NaN</td>\n",
       "    </tr>\n",
       "    <tr>\n",
       "      <th>1</th>\n",
       "      <td>Afghanistan</td>\n",
       "      <td>1800.0</td>\n",
       "      <td>7.0</td>\n",
       "    </tr>\n",
       "    <tr>\n",
       "      <th>2</th>\n",
       "      <td>Akrotiri and Dhekelia</td>\n",
       "      <td>1800.0</td>\n",
       "      <td>NaN</td>\n",
       "    </tr>\n",
       "  </tbody>\n",
       "</table>\n",
       "</div>"
      ],
      "text/plain": [
       "                 country    year  fertility_rate\n",
       "0               Abkhazia  1800.0             NaN\n",
       "1            Afghanistan  1800.0             7.0\n",
       "2  Akrotiri and Dhekelia  1800.0             NaN"
      ]
     },
     "execution_count": 21,
     "metadata": {},
     "output_type": "execute_result"
    }
   ],
   "source": [
    "wide_fert.head(3)"
   ]
  },
  {
   "cell_type": "code",
   "execution_count": 22,
   "id": "90c09556-58fc-4206-b4c6-769b7e5377d7",
   "metadata": {},
   "outputs": [
    {
     "name": "stdout",
     "output_type": "stream",
     "text": [
      "<class 'pandas.core.frame.DataFrame'>\n",
      "RangeIndex: 56160 entries, 0 to 56159\n",
      "Data columns (total 3 columns):\n",
      " #   Column          Non-Null Count  Dtype  \n",
      "---  ------          --------------  -----  \n",
      " 0   country         56160 non-null  object \n",
      " 1   year            56160 non-null  object \n",
      " 2   fertility_rate  43412 non-null  float64\n",
      "dtypes: float64(1), object(2)\n",
      "memory usage: 1.3+ MB\n"
     ]
    }
   ],
   "source": [
    "wide_fert.info()\n",
    "#why is year an object and fertility rate a float64? Because it's the var_name?\n",
    "#why did we want to transform the nummeral years to ints/floats anyway?                    "
   ]
  },
  {
   "cell_type": "code",
   "execution_count": 23,
   "id": "3a72f7a0-9590-42c5-87cf-cf8727c27f47",
   "metadata": {},
   "outputs": [
    {
     "data": {
      "text/plain": [
       "RangeIndex(start=0, stop=56160, step=1)"
      ]
     },
     "execution_count": 23,
     "metadata": {},
     "output_type": "execute_result"
    }
   ],
   "source": [
    "wide_fert.index"
   ]
  },
  {
   "cell_type": "markdown",
   "id": "7c32634b-b833-4623-be51-3a77c7e8e271",
   "metadata": {},
   "source": [
    "#### Step 7"
   ]
  },
  {
   "cell_type": "markdown",
   "id": "982bae64-d07a-4268-b7d2-18dcb01e4129",
   "metadata": {},
   "source": [
    "Same procedure for the life expectancy data:"
   ]
  },
  {
   "cell_type": "code",
   "execution_count": 24,
   "id": "015d7849-c656-4944-aa69-892689c0fecc",
   "metadata": {},
   "outputs": [
    {
     "data": {
      "text/plain": [
       "Index(['Abkhazia', 'Afghanistan', 'Akrotiri and Dhekelia', 'Albania',\n",
       "       'Algeria', 'American Samoa', 'Andorra', 'Angola', 'Anguilla',\n",
       "       'Antigua and Barbuda',\n",
       "       ...\n",
       "       'Vietnam', 'Virgin Islands (U.S.)', 'North Yemen (former)',\n",
       "       'South Yemen (former)', 'Yemen', 'Yugoslavia', 'Zambia', 'Zimbabwe',\n",
       "       'Åland', 'South Sudan'],\n",
       "      dtype='object', name='Life expectancy', length=260)"
      ]
     },
     "execution_count": 24,
     "metadata": {},
     "output_type": "execute_result"
    }
   ],
   "source": [
    "life.index"
   ]
  },
  {
   "cell_type": "code",
   "execution_count": 25,
   "id": "8164d8fb-eaf2-4b3d-ac0c-f0d647631229",
   "metadata": {},
   "outputs": [],
   "source": [
    "life.index.name = 'country'"
   ]
  },
  {
   "cell_type": "code",
   "execution_count": 26,
   "id": "539f1444-65e8-4dd1-b9ff-885aeeeb5901",
   "metadata": {},
   "outputs": [],
   "source": [
    "life = life.reset_index() ###don't forget the brackets"
   ]
  },
  {
   "cell_type": "code",
   "execution_count": 27,
   "id": "8411ef1a-6feb-4477-8077-f3561ce672da",
   "metadata": {},
   "outputs": [
    {
     "data": {
      "text/html": [
       "<div>\n",
       "<style scoped>\n",
       "    .dataframe tbody tr th:only-of-type {\n",
       "        vertical-align: middle;\n",
       "    }\n",
       "\n",
       "    .dataframe tbody tr th {\n",
       "        vertical-align: top;\n",
       "    }\n",
       "\n",
       "    .dataframe thead th {\n",
       "        text-align: right;\n",
       "    }\n",
       "</style>\n",
       "<table border=\"1\" class=\"dataframe\">\n",
       "  <thead>\n",
       "    <tr style=\"text-align: right;\">\n",
       "      <th></th>\n",
       "      <th>country</th>\n",
       "      <th>1800.0</th>\n",
       "      <th>1801.0</th>\n",
       "      <th>1802.0</th>\n",
       "      <th>1803.0</th>\n",
       "      <th>1804.0</th>\n",
       "      <th>1805.0</th>\n",
       "      <th>1806.0</th>\n",
       "      <th>1807.0</th>\n",
       "      <th>1808.0</th>\n",
       "      <th>...</th>\n",
       "      <th>2007.0</th>\n",
       "      <th>2008.0</th>\n",
       "      <th>2009.0</th>\n",
       "      <th>2010.0</th>\n",
       "      <th>2011.0</th>\n",
       "      <th>2012.0</th>\n",
       "      <th>2013.0</th>\n",
       "      <th>2014.0</th>\n",
       "      <th>2015.0</th>\n",
       "      <th>2016.0</th>\n",
       "    </tr>\n",
       "  </thead>\n",
       "  <tbody>\n",
       "    <tr>\n",
       "      <th>0</th>\n",
       "      <td>Abkhazia</td>\n",
       "      <td>NaN</td>\n",
       "      <td>NaN</td>\n",
       "      <td>NaN</td>\n",
       "      <td>NaN</td>\n",
       "      <td>NaN</td>\n",
       "      <td>NaN</td>\n",
       "      <td>NaN</td>\n",
       "      <td>NaN</td>\n",
       "      <td>NaN</td>\n",
       "      <td>...</td>\n",
       "      <td>NaN</td>\n",
       "      <td>NaN</td>\n",
       "      <td>NaN</td>\n",
       "      <td>NaN</td>\n",
       "      <td>NaN</td>\n",
       "      <td>NaN</td>\n",
       "      <td>NaN</td>\n",
       "      <td>NaN</td>\n",
       "      <td>NaN</td>\n",
       "      <td>NaN</td>\n",
       "    </tr>\n",
       "    <tr>\n",
       "      <th>1</th>\n",
       "      <td>Afghanistan</td>\n",
       "      <td>28.21</td>\n",
       "      <td>28.2</td>\n",
       "      <td>28.19</td>\n",
       "      <td>28.18</td>\n",
       "      <td>28.17</td>\n",
       "      <td>28.16</td>\n",
       "      <td>28.15</td>\n",
       "      <td>28.14</td>\n",
       "      <td>28.13</td>\n",
       "      <td>...</td>\n",
       "      <td>52.4</td>\n",
       "      <td>52.8</td>\n",
       "      <td>53.3</td>\n",
       "      <td>53.6</td>\n",
       "      <td>54.0</td>\n",
       "      <td>54.4</td>\n",
       "      <td>54.8</td>\n",
       "      <td>54.9</td>\n",
       "      <td>53.8</td>\n",
       "      <td>52.72</td>\n",
       "    </tr>\n",
       "    <tr>\n",
       "      <th>2</th>\n",
       "      <td>Akrotiri and Dhekelia</td>\n",
       "      <td>NaN</td>\n",
       "      <td>NaN</td>\n",
       "      <td>NaN</td>\n",
       "      <td>NaN</td>\n",
       "      <td>NaN</td>\n",
       "      <td>NaN</td>\n",
       "      <td>NaN</td>\n",
       "      <td>NaN</td>\n",
       "      <td>NaN</td>\n",
       "      <td>...</td>\n",
       "      <td>NaN</td>\n",
       "      <td>NaN</td>\n",
       "      <td>NaN</td>\n",
       "      <td>NaN</td>\n",
       "      <td>NaN</td>\n",
       "      <td>NaN</td>\n",
       "      <td>NaN</td>\n",
       "      <td>NaN</td>\n",
       "      <td>NaN</td>\n",
       "      <td>NaN</td>\n",
       "    </tr>\n",
       "  </tbody>\n",
       "</table>\n",
       "<p>3 rows × 218 columns</p>\n",
       "</div>"
      ],
      "text/plain": [
       "                 country  1800.0  1801.0  1802.0  1803.0  1804.0  1805.0  \\\n",
       "0               Abkhazia     NaN     NaN     NaN     NaN     NaN     NaN   \n",
       "1            Afghanistan   28.21    28.2   28.19   28.18   28.17   28.16   \n",
       "2  Akrotiri and Dhekelia     NaN     NaN     NaN     NaN     NaN     NaN   \n",
       "\n",
       "   1806.0  1807.0  1808.0  ...  2007.0  2008.0  2009.0  2010.0  2011.0  \\\n",
       "0     NaN     NaN     NaN  ...     NaN     NaN     NaN     NaN     NaN   \n",
       "1   28.15   28.14   28.13  ...    52.4    52.8    53.3    53.6    54.0   \n",
       "2     NaN     NaN     NaN  ...     NaN     NaN     NaN     NaN     NaN   \n",
       "\n",
       "   2012.0  2013.0  2014.0  2015.0  2016.0  \n",
       "0     NaN     NaN     NaN     NaN     NaN  \n",
       "1    54.4    54.8    54.9    53.8   52.72  \n",
       "2     NaN     NaN     NaN     NaN     NaN  \n",
       "\n",
       "[3 rows x 218 columns]"
      ]
     },
     "execution_count": 27,
     "metadata": {},
     "output_type": "execute_result"
    }
   ],
   "source": [
    "life.head(3)"
   ]
  },
  {
   "cell_type": "code",
   "execution_count": 28,
   "id": "c181d456-8059-4860-a4a3-242eca686963",
   "metadata": {},
   "outputs": [],
   "source": [
    "wide_life = life.melt(id_vars='country',\n",
    "                 var_name='year',\n",
    "                 value_name='life_expectancy')"
   ]
  },
  {
   "cell_type": "code",
   "execution_count": 29,
   "id": "533bbdb0-60ff-4c2d-9d68-7df86cfad7df",
   "metadata": {},
   "outputs": [
    {
     "name": "stdout",
     "output_type": "stream",
     "text": [
      "<class 'pandas.core.frame.DataFrame'>\n",
      "RangeIndex: 56420 entries, 0 to 56419\n",
      "Data columns (total 3 columns):\n",
      " #   Column           Non-Null Count  Dtype  \n",
      "---  ------           --------------  -----  \n",
      " 0   country          56420 non-null  object \n",
      " 1   year             56420 non-null  object \n",
      " 2   life_expectancy  43857 non-null  float64\n",
      "dtypes: float64(1), object(2)\n",
      "memory usage: 1.3+ MB\n"
     ]
    },
    {
     "data": {
      "text/html": [
       "<div>\n",
       "<style scoped>\n",
       "    .dataframe tbody tr th:only-of-type {\n",
       "        vertical-align: middle;\n",
       "    }\n",
       "\n",
       "    .dataframe tbody tr th {\n",
       "        vertical-align: top;\n",
       "    }\n",
       "\n",
       "    .dataframe thead th {\n",
       "        text-align: right;\n",
       "    }\n",
       "</style>\n",
       "<table border=\"1\" class=\"dataframe\">\n",
       "  <thead>\n",
       "    <tr style=\"text-align: right;\">\n",
       "      <th></th>\n",
       "      <th>country</th>\n",
       "      <th>year</th>\n",
       "      <th>life_expectancy</th>\n",
       "    </tr>\n",
       "  </thead>\n",
       "  <tbody>\n",
       "    <tr>\n",
       "      <th>0</th>\n",
       "      <td>Abkhazia</td>\n",
       "      <td>1800.0</td>\n",
       "      <td>NaN</td>\n",
       "    </tr>\n",
       "    <tr>\n",
       "      <th>1</th>\n",
       "      <td>Afghanistan</td>\n",
       "      <td>1800.0</td>\n",
       "      <td>28.21</td>\n",
       "    </tr>\n",
       "    <tr>\n",
       "      <th>2</th>\n",
       "      <td>Akrotiri and Dhekelia</td>\n",
       "      <td>1800.0</td>\n",
       "      <td>NaN</td>\n",
       "    </tr>\n",
       "  </tbody>\n",
       "</table>\n",
       "</div>"
      ],
      "text/plain": [
       "                 country    year  life_expectancy\n",
       "0               Abkhazia  1800.0              NaN\n",
       "1            Afghanistan  1800.0            28.21\n",
       "2  Akrotiri and Dhekelia  1800.0              NaN"
      ]
     },
     "execution_count": 29,
     "metadata": {},
     "output_type": "execute_result"
    }
   ],
   "source": [
    "wide_life.info()\n",
    "wide_life.head(3)"
   ]
  },
  {
   "cell_type": "code",
   "execution_count": 30,
   "id": "f2a1fe74-37a3-4c6b-9b1e-e13286dd579f",
   "metadata": {},
   "outputs": [
    {
     "data": {
      "text/plain": [
       "RangeIndex(start=0, stop=56420, step=1)"
      ]
     },
     "execution_count": 30,
     "metadata": {},
     "output_type": "execute_result"
    }
   ],
   "source": [
    "wide_life.index"
   ]
  },
  {
   "cell_type": "markdown",
   "id": "066fcff8-61d2-40d5-99ad-9665339aae08",
   "metadata": {
    "tags": []
   },
   "source": [
    "#### Step 8"
   ]
  },
  {
   "cell_type": "markdown",
   "id": "06e4af9d-a691-42a2-bfa2-e4a0aaad8309",
   "metadata": {},
   "source": [
    "Same procedure with population data:"
   ]
  },
  {
   "cell_type": "code",
   "execution_count": 31,
   "id": "cb270608-f9c4-460a-bb4b-b6aaf316e703",
   "metadata": {},
   "outputs": [],
   "source": [
    "popul = pd.read_excel('../data/gapminder_population.xlsx')"
   ]
  },
  {
   "cell_type": "code",
   "execution_count": 32,
   "id": "e7bdb30e-0e74-49c4-9dcb-56824807e8cd",
   "metadata": {},
   "outputs": [
    {
     "data": {
      "text/html": [
       "<div>\n",
       "<style scoped>\n",
       "    .dataframe tbody tr th:only-of-type {\n",
       "        vertical-align: middle;\n",
       "    }\n",
       "\n",
       "    .dataframe tbody tr th {\n",
       "        vertical-align: top;\n",
       "    }\n",
       "\n",
       "    .dataframe thead th {\n",
       "        text-align: right;\n",
       "    }\n",
       "</style>\n",
       "<table border=\"1\" class=\"dataframe\">\n",
       "  <thead>\n",
       "    <tr style=\"text-align: right;\">\n",
       "      <th></th>\n",
       "      <th>Total population</th>\n",
       "      <th>1800.0</th>\n",
       "      <th>1810.0</th>\n",
       "      <th>1820.0</th>\n",
       "      <th>1830.0</th>\n",
       "      <th>1840.0</th>\n",
       "      <th>1850.0</th>\n",
       "      <th>1860.0</th>\n",
       "      <th>1870.0</th>\n",
       "      <th>1880.0</th>\n",
       "      <th>...</th>\n",
       "      <th>2006.0</th>\n",
       "      <th>2007.0</th>\n",
       "      <th>2008.0</th>\n",
       "      <th>2009.0</th>\n",
       "      <th>2010.0</th>\n",
       "      <th>2011.0</th>\n",
       "      <th>2012.0</th>\n",
       "      <th>2013.0</th>\n",
       "      <th>2014.0</th>\n",
       "      <th>2015.0</th>\n",
       "    </tr>\n",
       "  </thead>\n",
       "  <tbody>\n",
       "    <tr>\n",
       "      <th>0</th>\n",
       "      <td>Abkhazia</td>\n",
       "      <td>NaN</td>\n",
       "      <td>NaN</td>\n",
       "      <td>NaN</td>\n",
       "      <td>NaN</td>\n",
       "      <td>NaN</td>\n",
       "      <td>NaN</td>\n",
       "      <td>NaN</td>\n",
       "      <td>NaN</td>\n",
       "      <td>NaN</td>\n",
       "      <td>...</td>\n",
       "      <td>NaN</td>\n",
       "      <td>NaN</td>\n",
       "      <td>NaN</td>\n",
       "      <td>NaN</td>\n",
       "      <td>NaN</td>\n",
       "      <td>NaN</td>\n",
       "      <td>NaN</td>\n",
       "      <td>NaN</td>\n",
       "      <td>NaN</td>\n",
       "      <td>NaN</td>\n",
       "    </tr>\n",
       "    <tr>\n",
       "      <th>1</th>\n",
       "      <td>Afghanistan</td>\n",
       "      <td>3280000.0</td>\n",
       "      <td>3280000.0</td>\n",
       "      <td>3323519.0</td>\n",
       "      <td>3448982.0</td>\n",
       "      <td>3625022.0</td>\n",
       "      <td>3810047.0</td>\n",
       "      <td>3973968.0</td>\n",
       "      <td>4169690.0</td>\n",
       "      <td>4419695.0</td>\n",
       "      <td>...</td>\n",
       "      <td>25183615.0</td>\n",
       "      <td>25877544.0</td>\n",
       "      <td>26528741.0</td>\n",
       "      <td>27207291.0</td>\n",
       "      <td>27962207.0</td>\n",
       "      <td>28809167.0</td>\n",
       "      <td>29726803.0</td>\n",
       "      <td>30682500.0</td>\n",
       "      <td>31627506.0</td>\n",
       "      <td>32526562.0</td>\n",
       "    </tr>\n",
       "    <tr>\n",
       "      <th>2</th>\n",
       "      <td>Akrotiri and Dhekelia</td>\n",
       "      <td>NaN</td>\n",
       "      <td>NaN</td>\n",
       "      <td>NaN</td>\n",
       "      <td>NaN</td>\n",
       "      <td>NaN</td>\n",
       "      <td>NaN</td>\n",
       "      <td>NaN</td>\n",
       "      <td>NaN</td>\n",
       "      <td>NaN</td>\n",
       "      <td>...</td>\n",
       "      <td>15700.0</td>\n",
       "      <td>15700.0</td>\n",
       "      <td>15700.0</td>\n",
       "      <td>NaN</td>\n",
       "      <td>NaN</td>\n",
       "      <td>NaN</td>\n",
       "      <td>NaN</td>\n",
       "      <td>NaN</td>\n",
       "      <td>NaN</td>\n",
       "      <td>NaN</td>\n",
       "    </tr>\n",
       "    <tr>\n",
       "      <th>3</th>\n",
       "      <td>Albania</td>\n",
       "      <td>410445.0</td>\n",
       "      <td>423591.0</td>\n",
       "      <td>438671.0</td>\n",
       "      <td>457234.0</td>\n",
       "      <td>478227.0</td>\n",
       "      <td>506889.0</td>\n",
       "      <td>552800.0</td>\n",
       "      <td>610036.0</td>\n",
       "      <td>672544.0</td>\n",
       "      <td>...</td>\n",
       "      <td>3050741.0</td>\n",
       "      <td>3010849.0</td>\n",
       "      <td>2968026.0</td>\n",
       "      <td>2929886.0</td>\n",
       "      <td>2901883.0</td>\n",
       "      <td>2886010.0</td>\n",
       "      <td>2880667.0</td>\n",
       "      <td>2883281.0</td>\n",
       "      <td>2889676.0</td>\n",
       "      <td>2896679.0</td>\n",
       "    </tr>\n",
       "    <tr>\n",
       "      <th>4</th>\n",
       "      <td>Algeria</td>\n",
       "      <td>2503218.0</td>\n",
       "      <td>2595056.0</td>\n",
       "      <td>2713079.0</td>\n",
       "      <td>2880355.0</td>\n",
       "      <td>3082721.0</td>\n",
       "      <td>3299305.0</td>\n",
       "      <td>3536468.0</td>\n",
       "      <td>3811028.0</td>\n",
       "      <td>4143163.0</td>\n",
       "      <td>...</td>\n",
       "      <td>33749328.0</td>\n",
       "      <td>34261971.0</td>\n",
       "      <td>34811059.0</td>\n",
       "      <td>35401790.0</td>\n",
       "      <td>36036159.0</td>\n",
       "      <td>36717132.0</td>\n",
       "      <td>37439427.0</td>\n",
       "      <td>38186135.0</td>\n",
       "      <td>38934334.0</td>\n",
       "      <td>39666519.0</td>\n",
       "    </tr>\n",
       "  </tbody>\n",
       "</table>\n",
       "<p>5 rows × 82 columns</p>\n",
       "</div>"
      ],
      "text/plain": [
       "        Total population     1800.0     1810.0     1820.0     1830.0  \\\n",
       "0               Abkhazia        NaN        NaN        NaN        NaN   \n",
       "1            Afghanistan  3280000.0  3280000.0  3323519.0  3448982.0   \n",
       "2  Akrotiri and Dhekelia        NaN        NaN        NaN        NaN   \n",
       "3                Albania   410445.0   423591.0   438671.0   457234.0   \n",
       "4                Algeria  2503218.0  2595056.0  2713079.0  2880355.0   \n",
       "\n",
       "      1840.0     1850.0     1860.0     1870.0     1880.0  ...      2006.0  \\\n",
       "0        NaN        NaN        NaN        NaN        NaN  ...         NaN   \n",
       "1  3625022.0  3810047.0  3973968.0  4169690.0  4419695.0  ...  25183615.0   \n",
       "2        NaN        NaN        NaN        NaN        NaN  ...     15700.0   \n",
       "3   478227.0   506889.0   552800.0   610036.0   672544.0  ...   3050741.0   \n",
       "4  3082721.0  3299305.0  3536468.0  3811028.0  4143163.0  ...  33749328.0   \n",
       "\n",
       "       2007.0      2008.0      2009.0      2010.0      2011.0      2012.0  \\\n",
       "0         NaN         NaN         NaN         NaN         NaN         NaN   \n",
       "1  25877544.0  26528741.0  27207291.0  27962207.0  28809167.0  29726803.0   \n",
       "2     15700.0     15700.0         NaN         NaN         NaN         NaN   \n",
       "3   3010849.0   2968026.0   2929886.0   2901883.0   2886010.0   2880667.0   \n",
       "4  34261971.0  34811059.0  35401790.0  36036159.0  36717132.0  37439427.0   \n",
       "\n",
       "       2013.0      2014.0      2015.0  \n",
       "0         NaN         NaN         NaN  \n",
       "1  30682500.0  31627506.0  32526562.0  \n",
       "2         NaN         NaN         NaN  \n",
       "3   2883281.0   2889676.0   2896679.0  \n",
       "4  38186135.0  38934334.0  39666519.0  \n",
       "\n",
       "[5 rows x 82 columns]"
      ]
     },
     "execution_count": 32,
     "metadata": {},
     "output_type": "execute_result"
    }
   ],
   "source": [
    "popul.head()"
   ]
  },
  {
   "cell_type": "markdown",
   "id": "7f657bac-09d8-4a91-abb5-6487759f9771",
   "metadata": {},
   "source": [
    "Checking the dtypes:"
   ]
  },
  {
   "cell_type": "code",
   "execution_count": 33,
   "id": "1ade749b-7d05-48c1-8ab7-7869f9690692",
   "metadata": {},
   "outputs": [
    {
     "name": "stdout",
     "output_type": "stream",
     "text": [
      "<class 'pandas.core.frame.DataFrame'>\n",
      "RangeIndex: 275 entries, 0 to 274\n",
      "Columns: 82 entries, Total population to 2015.0\n",
      "dtypes: float64(81), object(1)\n",
      "memory usage: 176.3+ KB\n"
     ]
    }
   ],
   "source": [
    "popul.info(verbose=False)"
   ]
  },
  {
   "cell_type": "code",
   "execution_count": 34,
   "id": "422ca50a-c7bc-4ebd-93ce-9d474d084588",
   "metadata": {},
   "outputs": [
    {
     "data": {
      "text/plain": [
       "RangeIndex(start=0, stop=275, step=1)"
      ]
     },
     "execution_count": 34,
     "metadata": {},
     "output_type": "execute_result"
    }
   ],
   "source": [
    "popul.index"
   ]
  },
  {
   "cell_type": "markdown",
   "id": "92a6860f-36e6-4591-bed6-9a5993eb6974",
   "metadata": {},
   "source": [
    "Renaming the first column:"
   ]
  },
  {
   "cell_type": "code",
   "execution_count": 35,
   "id": "afbf4d62-d9ce-4c39-89a2-1b3e9ed9f2d0",
   "metadata": {},
   "outputs": [
    {
     "data": {
      "text/plain": [
       "1800.0"
      ]
     },
     "execution_count": 35,
     "metadata": {},
     "output_type": "execute_result"
    }
   ],
   "source": [
    "popul.columns[1]"
   ]
  },
  {
   "cell_type": "code",
   "execution_count": 36,
   "id": "9ac9f954-0d8e-44f5-9a75-d2bad40cc510",
   "metadata": {},
   "outputs": [],
   "source": [
    "popul.rename(mapper={'Total population':'country'}, axis=1, inplace=True)"
   ]
  },
  {
   "cell_type": "code",
   "execution_count": 37,
   "id": "191f09d1-2f0a-41fa-bccb-6402c09428c7",
   "metadata": {},
   "outputs": [
    {
     "data": {
      "text/html": [
       "<div>\n",
       "<style scoped>\n",
       "    .dataframe tbody tr th:only-of-type {\n",
       "        vertical-align: middle;\n",
       "    }\n",
       "\n",
       "    .dataframe tbody tr th {\n",
       "        vertical-align: top;\n",
       "    }\n",
       "\n",
       "    .dataframe thead th {\n",
       "        text-align: right;\n",
       "    }\n",
       "</style>\n",
       "<table border=\"1\" class=\"dataframe\">\n",
       "  <thead>\n",
       "    <tr style=\"text-align: right;\">\n",
       "      <th></th>\n",
       "      <th>country</th>\n",
       "      <th>1800.0</th>\n",
       "      <th>1810.0</th>\n",
       "      <th>1820.0</th>\n",
       "      <th>1830.0</th>\n",
       "      <th>1840.0</th>\n",
       "      <th>1850.0</th>\n",
       "      <th>1860.0</th>\n",
       "      <th>1870.0</th>\n",
       "      <th>1880.0</th>\n",
       "      <th>...</th>\n",
       "      <th>2006.0</th>\n",
       "      <th>2007.0</th>\n",
       "      <th>2008.0</th>\n",
       "      <th>2009.0</th>\n",
       "      <th>2010.0</th>\n",
       "      <th>2011.0</th>\n",
       "      <th>2012.0</th>\n",
       "      <th>2013.0</th>\n",
       "      <th>2014.0</th>\n",
       "      <th>2015.0</th>\n",
       "    </tr>\n",
       "  </thead>\n",
       "  <tbody>\n",
       "    <tr>\n",
       "      <th>0</th>\n",
       "      <td>Abkhazia</td>\n",
       "      <td>NaN</td>\n",
       "      <td>NaN</td>\n",
       "      <td>NaN</td>\n",
       "      <td>NaN</td>\n",
       "      <td>NaN</td>\n",
       "      <td>NaN</td>\n",
       "      <td>NaN</td>\n",
       "      <td>NaN</td>\n",
       "      <td>NaN</td>\n",
       "      <td>...</td>\n",
       "      <td>NaN</td>\n",
       "      <td>NaN</td>\n",
       "      <td>NaN</td>\n",
       "      <td>NaN</td>\n",
       "      <td>NaN</td>\n",
       "      <td>NaN</td>\n",
       "      <td>NaN</td>\n",
       "      <td>NaN</td>\n",
       "      <td>NaN</td>\n",
       "      <td>NaN</td>\n",
       "    </tr>\n",
       "    <tr>\n",
       "      <th>1</th>\n",
       "      <td>Afghanistan</td>\n",
       "      <td>3280000.0</td>\n",
       "      <td>3280000.0</td>\n",
       "      <td>3323519.0</td>\n",
       "      <td>3448982.0</td>\n",
       "      <td>3625022.0</td>\n",
       "      <td>3810047.0</td>\n",
       "      <td>3973968.0</td>\n",
       "      <td>4169690.0</td>\n",
       "      <td>4419695.0</td>\n",
       "      <td>...</td>\n",
       "      <td>25183615.0</td>\n",
       "      <td>25877544.0</td>\n",
       "      <td>26528741.0</td>\n",
       "      <td>27207291.0</td>\n",
       "      <td>27962207.0</td>\n",
       "      <td>28809167.0</td>\n",
       "      <td>29726803.0</td>\n",
       "      <td>30682500.0</td>\n",
       "      <td>31627506.0</td>\n",
       "      <td>32526562.0</td>\n",
       "    </tr>\n",
       "    <tr>\n",
       "      <th>2</th>\n",
       "      <td>Akrotiri and Dhekelia</td>\n",
       "      <td>NaN</td>\n",
       "      <td>NaN</td>\n",
       "      <td>NaN</td>\n",
       "      <td>NaN</td>\n",
       "      <td>NaN</td>\n",
       "      <td>NaN</td>\n",
       "      <td>NaN</td>\n",
       "      <td>NaN</td>\n",
       "      <td>NaN</td>\n",
       "      <td>...</td>\n",
       "      <td>15700.0</td>\n",
       "      <td>15700.0</td>\n",
       "      <td>15700.0</td>\n",
       "      <td>NaN</td>\n",
       "      <td>NaN</td>\n",
       "      <td>NaN</td>\n",
       "      <td>NaN</td>\n",
       "      <td>NaN</td>\n",
       "      <td>NaN</td>\n",
       "      <td>NaN</td>\n",
       "    </tr>\n",
       "    <tr>\n",
       "      <th>3</th>\n",
       "      <td>Albania</td>\n",
       "      <td>410445.0</td>\n",
       "      <td>423591.0</td>\n",
       "      <td>438671.0</td>\n",
       "      <td>457234.0</td>\n",
       "      <td>478227.0</td>\n",
       "      <td>506889.0</td>\n",
       "      <td>552800.0</td>\n",
       "      <td>610036.0</td>\n",
       "      <td>672544.0</td>\n",
       "      <td>...</td>\n",
       "      <td>3050741.0</td>\n",
       "      <td>3010849.0</td>\n",
       "      <td>2968026.0</td>\n",
       "      <td>2929886.0</td>\n",
       "      <td>2901883.0</td>\n",
       "      <td>2886010.0</td>\n",
       "      <td>2880667.0</td>\n",
       "      <td>2883281.0</td>\n",
       "      <td>2889676.0</td>\n",
       "      <td>2896679.0</td>\n",
       "    </tr>\n",
       "    <tr>\n",
       "      <th>4</th>\n",
       "      <td>Algeria</td>\n",
       "      <td>2503218.0</td>\n",
       "      <td>2595056.0</td>\n",
       "      <td>2713079.0</td>\n",
       "      <td>2880355.0</td>\n",
       "      <td>3082721.0</td>\n",
       "      <td>3299305.0</td>\n",
       "      <td>3536468.0</td>\n",
       "      <td>3811028.0</td>\n",
       "      <td>4143163.0</td>\n",
       "      <td>...</td>\n",
       "      <td>33749328.0</td>\n",
       "      <td>34261971.0</td>\n",
       "      <td>34811059.0</td>\n",
       "      <td>35401790.0</td>\n",
       "      <td>36036159.0</td>\n",
       "      <td>36717132.0</td>\n",
       "      <td>37439427.0</td>\n",
       "      <td>38186135.0</td>\n",
       "      <td>38934334.0</td>\n",
       "      <td>39666519.0</td>\n",
       "    </tr>\n",
       "  </tbody>\n",
       "</table>\n",
       "<p>5 rows × 82 columns</p>\n",
       "</div>"
      ],
      "text/plain": [
       "                 country     1800.0     1810.0     1820.0     1830.0  \\\n",
       "0               Abkhazia        NaN        NaN        NaN        NaN   \n",
       "1            Afghanistan  3280000.0  3280000.0  3323519.0  3448982.0   \n",
       "2  Akrotiri and Dhekelia        NaN        NaN        NaN        NaN   \n",
       "3                Albania   410445.0   423591.0   438671.0   457234.0   \n",
       "4                Algeria  2503218.0  2595056.0  2713079.0  2880355.0   \n",
       "\n",
       "      1840.0     1850.0     1860.0     1870.0     1880.0  ...      2006.0  \\\n",
       "0        NaN        NaN        NaN        NaN        NaN  ...         NaN   \n",
       "1  3625022.0  3810047.0  3973968.0  4169690.0  4419695.0  ...  25183615.0   \n",
       "2        NaN        NaN        NaN        NaN        NaN  ...     15700.0   \n",
       "3   478227.0   506889.0   552800.0   610036.0   672544.0  ...   3050741.0   \n",
       "4  3082721.0  3299305.0  3536468.0  3811028.0  4143163.0  ...  33749328.0   \n",
       "\n",
       "       2007.0      2008.0      2009.0      2010.0      2011.0      2012.0  \\\n",
       "0         NaN         NaN         NaN         NaN         NaN         NaN   \n",
       "1  25877544.0  26528741.0  27207291.0  27962207.0  28809167.0  29726803.0   \n",
       "2     15700.0     15700.0         NaN         NaN         NaN         NaN   \n",
       "3   3010849.0   2968026.0   2929886.0   2901883.0   2886010.0   2880667.0   \n",
       "4  34261971.0  34811059.0  35401790.0  36036159.0  36717132.0  37439427.0   \n",
       "\n",
       "       2013.0      2014.0      2015.0  \n",
       "0         NaN         NaN         NaN  \n",
       "1  30682500.0  31627506.0  32526562.0  \n",
       "2         NaN         NaN         NaN  \n",
       "3   2883281.0   2889676.0   2896679.0  \n",
       "4  38186135.0  38934334.0  39666519.0  \n",
       "\n",
       "[5 rows x 82 columns]"
      ]
     },
     "execution_count": 37,
     "metadata": {},
     "output_type": "execute_result"
    }
   ],
   "source": [
    "popul.head()"
   ]
  },
  {
   "cell_type": "code",
   "execution_count": 38,
   "id": "b42c6493-02a7-4e9a-876a-cdd30201a10d",
   "metadata": {},
   "outputs": [
    {
     "data": {
      "text/plain": [
       "RangeIndex(start=0, stop=275, step=1)"
      ]
     },
     "execution_count": 38,
     "metadata": {},
     "output_type": "execute_result"
    }
   ],
   "source": [
    "popul.index"
   ]
  },
  {
   "cell_type": "code",
   "execution_count": 39,
   "id": "ec413931-6952-4666-8f48-be6bf30f2666",
   "metadata": {},
   "outputs": [],
   "source": [
    "wide_popul = popul.melt(\n",
    "    id_vars = 'country', \n",
    "    var_name = 'year',\n",
    "    value_name = 'population')"
   ]
  },
  {
   "cell_type": "code",
   "execution_count": 40,
   "id": "584e114c-b983-4589-bda4-6fd517e94053",
   "metadata": {},
   "outputs": [
    {
     "name": "stdout",
     "output_type": "stream",
     "text": [
      "<class 'pandas.core.frame.DataFrame'>\n",
      "RangeIndex: 22275 entries, 0 to 22274\n",
      "Data columns (total 3 columns):\n",
      " #   Column      Non-Null Count  Dtype  \n",
      "---  ------      --------------  -----  \n",
      " 0   country     22275 non-null  object \n",
      " 1   year        22275 non-null  object \n",
      " 2   population  20176 non-null  float64\n",
      "dtypes: float64(1), object(2)\n",
      "memory usage: 522.2+ KB\n"
     ]
    }
   ],
   "source": [
    "wide_popul.info()"
   ]
  },
  {
   "cell_type": "code",
   "execution_count": 41,
   "id": "820afc79-448c-41f2-9823-83eeddd6ab85",
   "metadata": {},
   "outputs": [
    {
     "data": {
      "text/html": [
       "<div>\n",
       "<style scoped>\n",
       "    .dataframe tbody tr th:only-of-type {\n",
       "        vertical-align: middle;\n",
       "    }\n",
       "\n",
       "    .dataframe tbody tr th {\n",
       "        vertical-align: top;\n",
       "    }\n",
       "\n",
       "    .dataframe thead th {\n",
       "        text-align: right;\n",
       "    }\n",
       "</style>\n",
       "<table border=\"1\" class=\"dataframe\">\n",
       "  <thead>\n",
       "    <tr style=\"text-align: right;\">\n",
       "      <th></th>\n",
       "      <th>country</th>\n",
       "      <th>year</th>\n",
       "      <th>population</th>\n",
       "    </tr>\n",
       "  </thead>\n",
       "  <tbody>\n",
       "    <tr>\n",
       "      <th>0</th>\n",
       "      <td>Abkhazia</td>\n",
       "      <td>1800.0</td>\n",
       "      <td>NaN</td>\n",
       "    </tr>\n",
       "    <tr>\n",
       "      <th>1</th>\n",
       "      <td>Afghanistan</td>\n",
       "      <td>1800.0</td>\n",
       "      <td>3280000.0</td>\n",
       "    </tr>\n",
       "    <tr>\n",
       "      <th>2</th>\n",
       "      <td>Akrotiri and Dhekelia</td>\n",
       "      <td>1800.0</td>\n",
       "      <td>NaN</td>\n",
       "    </tr>\n",
       "  </tbody>\n",
       "</table>\n",
       "</div>"
      ],
      "text/plain": [
       "                 country    year  population\n",
       "0               Abkhazia  1800.0         NaN\n",
       "1            Afghanistan  1800.0   3280000.0\n",
       "2  Akrotiri and Dhekelia  1800.0         NaN"
      ]
     },
     "execution_count": 41,
     "metadata": {},
     "output_type": "execute_result"
    }
   ],
   "source": [
    "wide_popul.head(3)"
   ]
  },
  {
   "cell_type": "code",
   "execution_count": 42,
   "id": "4dc2379b-351c-4822-89ce-bac44a8d57e8",
   "metadata": {},
   "outputs": [
    {
     "data": {
      "text/plain": [
       "Index(['country', 'year', 'population'], dtype='object')"
      ]
     },
     "execution_count": 42,
     "metadata": {},
     "output_type": "execute_result"
    }
   ],
   "source": [
    "wide_popul.columns"
   ]
  },
  {
   "cell_type": "code",
   "execution_count": 43,
   "id": "c32fedb4-c0dc-42f0-ba42-521bf98b44d8",
   "metadata": {},
   "outputs": [
    {
     "data": {
      "text/plain": [
       "RangeIndex(start=0, stop=22275, step=1)"
      ]
     },
     "execution_count": 43,
     "metadata": {},
     "output_type": "execute_result"
    }
   ],
   "source": [
    "wide_popul.index"
   ]
  },
  {
   "cell_type": "markdown",
   "id": "8bb04569-2d4a-4dae-bef5-86613d65900f",
   "metadata": {},
   "source": [
    "Step 9:"
   ]
  },
  {
   "cell_type": "markdown",
   "id": "936342ae-dbd1-4885-99a1-894a3b13a1db",
   "metadata": {},
   "source": [
    "Merging the wide fertility and population data frames:"
   ]
  },
  {
   "cell_type": "code",
   "execution_count": 44,
   "id": "7d8d9941-2c3d-421b-be26-c8b848442163",
   "metadata": {},
   "outputs": [],
   "source": [
    "df = wide_fert.merge(wide_popul)"
   ]
  },
  {
   "cell_type": "code",
   "execution_count": 45,
   "id": "40afdacc-2dfc-45e4-aec8-fdcdcb86ce51",
   "metadata": {},
   "outputs": [
    {
     "data": {
      "text/html": [
       "<div>\n",
       "<style scoped>\n",
       "    .dataframe tbody tr th:only-of-type {\n",
       "        vertical-align: middle;\n",
       "    }\n",
       "\n",
       "    .dataframe tbody tr th {\n",
       "        vertical-align: top;\n",
       "    }\n",
       "\n",
       "    .dataframe thead th {\n",
       "        text-align: right;\n",
       "    }\n",
       "</style>\n",
       "<table border=\"1\" class=\"dataframe\">\n",
       "  <thead>\n",
       "    <tr style=\"text-align: right;\">\n",
       "      <th></th>\n",
       "      <th>country</th>\n",
       "      <th>year</th>\n",
       "      <th>fertility_rate</th>\n",
       "      <th>population</th>\n",
       "    </tr>\n",
       "  </thead>\n",
       "  <tbody>\n",
       "    <tr>\n",
       "      <th>0</th>\n",
       "      <td>Abkhazia</td>\n",
       "      <td>1800.0</td>\n",
       "      <td>NaN</td>\n",
       "      <td>NaN</td>\n",
       "    </tr>\n",
       "    <tr>\n",
       "      <th>1</th>\n",
       "      <td>Afghanistan</td>\n",
       "      <td>1800.0</td>\n",
       "      <td>7.00</td>\n",
       "      <td>3280000.0</td>\n",
       "    </tr>\n",
       "    <tr>\n",
       "      <th>2</th>\n",
       "      <td>Akrotiri and Dhekelia</td>\n",
       "      <td>1800.0</td>\n",
       "      <td>NaN</td>\n",
       "      <td>NaN</td>\n",
       "    </tr>\n",
       "    <tr>\n",
       "      <th>3</th>\n",
       "      <td>Albania</td>\n",
       "      <td>1800.0</td>\n",
       "      <td>4.60</td>\n",
       "      <td>410445.0</td>\n",
       "    </tr>\n",
       "    <tr>\n",
       "      <th>4</th>\n",
       "      <td>Algeria</td>\n",
       "      <td>1800.0</td>\n",
       "      <td>6.99</td>\n",
       "      <td>2503218.0</td>\n",
       "    </tr>\n",
       "    <tr>\n",
       "      <th>...</th>\n",
       "      <td>...</td>\n",
       "      <td>...</td>\n",
       "      <td>...</td>\n",
       "      <td>...</td>\n",
       "    </tr>\n",
       "    <tr>\n",
       "      <th>20974</th>\n",
       "      <td>Yugoslavia</td>\n",
       "      <td>2015.0</td>\n",
       "      <td>NaN</td>\n",
       "      <td>NaN</td>\n",
       "    </tr>\n",
       "    <tr>\n",
       "      <th>20975</th>\n",
       "      <td>Zambia</td>\n",
       "      <td>2015.0</td>\n",
       "      <td>5.59</td>\n",
       "      <td>16211767.0</td>\n",
       "    </tr>\n",
       "    <tr>\n",
       "      <th>20976</th>\n",
       "      <td>Zimbabwe</td>\n",
       "      <td>2015.0</td>\n",
       "      <td>3.35</td>\n",
       "      <td>15602751.0</td>\n",
       "    </tr>\n",
       "    <tr>\n",
       "      <th>20977</th>\n",
       "      <td>Åland</td>\n",
       "      <td>2015.0</td>\n",
       "      <td>NaN</td>\n",
       "      <td>NaN</td>\n",
       "    </tr>\n",
       "    <tr>\n",
       "      <th>20978</th>\n",
       "      <td>Åland</td>\n",
       "      <td>2015.0</td>\n",
       "      <td>NaN</td>\n",
       "      <td>NaN</td>\n",
       "    </tr>\n",
       "  </tbody>\n",
       "</table>\n",
       "<p>20979 rows × 4 columns</p>\n",
       "</div>"
      ],
      "text/plain": [
       "                     country    year  fertility_rate  population\n",
       "0                   Abkhazia  1800.0             NaN         NaN\n",
       "1                Afghanistan  1800.0            7.00   3280000.0\n",
       "2      Akrotiri and Dhekelia  1800.0             NaN         NaN\n",
       "3                    Albania  1800.0            4.60    410445.0\n",
       "4                    Algeria  1800.0            6.99   2503218.0\n",
       "...                      ...     ...             ...         ...\n",
       "20974             Yugoslavia  2015.0             NaN         NaN\n",
       "20975                 Zambia  2015.0            5.59  16211767.0\n",
       "20976               Zimbabwe  2015.0            3.35  15602751.0\n",
       "20977                  Åland  2015.0             NaN         NaN\n",
       "20978                  Åland  2015.0             NaN         NaN\n",
       "\n",
       "[20979 rows x 4 columns]"
      ]
     },
     "execution_count": 45,
     "metadata": {},
     "output_type": "execute_result"
    }
   ],
   "source": [
    "df"
   ]
  },
  {
   "cell_type": "code",
   "execution_count": 46,
   "id": "dab2046e-8dde-4a12-a846-c56e37180cf1",
   "metadata": {},
   "outputs": [],
   "source": [
    "df = df.merge(wide_life)"
   ]
  },
  {
   "cell_type": "code",
   "execution_count": 47,
   "id": "9b91ffcd-6d5e-4864-acce-d23e1439ff98",
   "metadata": {},
   "outputs": [
    {
     "data": {
      "text/html": [
       "<div>\n",
       "<style scoped>\n",
       "    .dataframe tbody tr th:only-of-type {\n",
       "        vertical-align: middle;\n",
       "    }\n",
       "\n",
       "    .dataframe tbody tr th {\n",
       "        vertical-align: top;\n",
       "    }\n",
       "\n",
       "    .dataframe thead th {\n",
       "        text-align: right;\n",
       "    }\n",
       "</style>\n",
       "<table border=\"1\" class=\"dataframe\">\n",
       "  <thead>\n",
       "    <tr style=\"text-align: right;\">\n",
       "      <th></th>\n",
       "      <th>country</th>\n",
       "      <th>year</th>\n",
       "      <th>fertility_rate</th>\n",
       "      <th>population</th>\n",
       "      <th>life_expectancy</th>\n",
       "    </tr>\n",
       "  </thead>\n",
       "  <tbody>\n",
       "    <tr>\n",
       "      <th>0</th>\n",
       "      <td>Abkhazia</td>\n",
       "      <td>1800.0</td>\n",
       "      <td>NaN</td>\n",
       "      <td>NaN</td>\n",
       "      <td>NaN</td>\n",
       "    </tr>\n",
       "    <tr>\n",
       "      <th>1</th>\n",
       "      <td>Afghanistan</td>\n",
       "      <td>1800.0</td>\n",
       "      <td>7.00</td>\n",
       "      <td>3280000.0</td>\n",
       "      <td>28.21</td>\n",
       "    </tr>\n",
       "    <tr>\n",
       "      <th>2</th>\n",
       "      <td>Akrotiri and Dhekelia</td>\n",
       "      <td>1800.0</td>\n",
       "      <td>NaN</td>\n",
       "      <td>NaN</td>\n",
       "      <td>NaN</td>\n",
       "    </tr>\n",
       "    <tr>\n",
       "      <th>3</th>\n",
       "      <td>Albania</td>\n",
       "      <td>1800.0</td>\n",
       "      <td>4.60</td>\n",
       "      <td>410445.0</td>\n",
       "      <td>35.40</td>\n",
       "    </tr>\n",
       "    <tr>\n",
       "      <th>4</th>\n",
       "      <td>Algeria</td>\n",
       "      <td>1800.0</td>\n",
       "      <td>6.99</td>\n",
       "      <td>2503218.0</td>\n",
       "      <td>28.82</td>\n",
       "    </tr>\n",
       "    <tr>\n",
       "      <th>...</th>\n",
       "      <td>...</td>\n",
       "      <td>...</td>\n",
       "      <td>...</td>\n",
       "      <td>...</td>\n",
       "      <td>...</td>\n",
       "    </tr>\n",
       "    <tr>\n",
       "      <th>20974</th>\n",
       "      <td>Yugoslavia</td>\n",
       "      <td>2015.0</td>\n",
       "      <td>NaN</td>\n",
       "      <td>NaN</td>\n",
       "      <td>NaN</td>\n",
       "    </tr>\n",
       "    <tr>\n",
       "      <th>20975</th>\n",
       "      <td>Zambia</td>\n",
       "      <td>2015.0</td>\n",
       "      <td>5.59</td>\n",
       "      <td>16211767.0</td>\n",
       "      <td>56.70</td>\n",
       "    </tr>\n",
       "    <tr>\n",
       "      <th>20976</th>\n",
       "      <td>Zimbabwe</td>\n",
       "      <td>2015.0</td>\n",
       "      <td>3.35</td>\n",
       "      <td>15602751.0</td>\n",
       "      <td>59.30</td>\n",
       "    </tr>\n",
       "    <tr>\n",
       "      <th>20977</th>\n",
       "      <td>Åland</td>\n",
       "      <td>2015.0</td>\n",
       "      <td>NaN</td>\n",
       "      <td>NaN</td>\n",
       "      <td>NaN</td>\n",
       "    </tr>\n",
       "    <tr>\n",
       "      <th>20978</th>\n",
       "      <td>Åland</td>\n",
       "      <td>2015.0</td>\n",
       "      <td>NaN</td>\n",
       "      <td>NaN</td>\n",
       "      <td>NaN</td>\n",
       "    </tr>\n",
       "  </tbody>\n",
       "</table>\n",
       "<p>20979 rows × 5 columns</p>\n",
       "</div>"
      ],
      "text/plain": [
       "                     country    year  fertility_rate  population  \\\n",
       "0                   Abkhazia  1800.0             NaN         NaN   \n",
       "1                Afghanistan  1800.0            7.00   3280000.0   \n",
       "2      Akrotiri and Dhekelia  1800.0             NaN         NaN   \n",
       "3                    Albania  1800.0            4.60    410445.0   \n",
       "4                    Algeria  1800.0            6.99   2503218.0   \n",
       "...                      ...     ...             ...         ...   \n",
       "20974             Yugoslavia  2015.0             NaN         NaN   \n",
       "20975                 Zambia  2015.0            5.59  16211767.0   \n",
       "20976               Zimbabwe  2015.0            3.35  15602751.0   \n",
       "20977                  Åland  2015.0             NaN         NaN   \n",
       "20978                  Åland  2015.0             NaN         NaN   \n",
       "\n",
       "       life_expectancy  \n",
       "0                  NaN  \n",
       "1                28.21  \n",
       "2                  NaN  \n",
       "3                35.40  \n",
       "4                28.82  \n",
       "...                ...  \n",
       "20974              NaN  \n",
       "20975            56.70  \n",
       "20976            59.30  \n",
       "20977              NaN  \n",
       "20978              NaN  \n",
       "\n",
       "[20979 rows x 5 columns]"
      ]
     },
     "execution_count": 47,
     "metadata": {},
     "output_type": "execute_result"
    }
   ],
   "source": [
    "df"
   ]
  },
  {
   "cell_type": "markdown",
   "id": "d67b2d40-1221-4202-8a1c-bca88c96a3dc",
   "metadata": {},
   "source": [
    "Step 10"
   ]
  },
  {
   "cell_type": "markdown",
   "id": "274b9bca-034d-491c-833e-c356def0cbd4",
   "metadata": {},
   "source": [
    "Scatterplot for one particular year"
   ]
  },
  {
   "cell_type": "code",
   "execution_count": 48,
   "id": "3f7ba94d-6484-4fa6-8f46-dc85b039d35c",
   "metadata": {},
   "outputs": [
    {
     "data": {
      "text/plain": [
       "<matplotlib.legend.Legend at 0x1f34e8b2130>"
      ]
     },
     "execution_count": 48,
     "metadata": {},
     "output_type": "execute_result"
    },
    {
     "data": {
      "image/png": "[encoded data removed]",
      "text/plain": [
       "<Figure size 720x432 with 1 Axes>"
      ]
     },
     "metadata": {
      "needs_background": "light"
     },
     "output_type": "display_data"
    }
   ],
   "source": [
    "df_subset = df.loc[df['year'] == 2000]\n",
    "yearpl = '2000'\n",
    "plt.figure(figsize=(10,6))\n",
    "plt.axis(xmin=0,xmax=100,ymin=0,ymax=10)\n",
    "sns.scatterplot(x='life_expectancy', y='fertility_rate', size='population',\n",
    "                sizes = (5, 350), data=df_subset, alpha=0.8, legend='brief')\n",
    "plt.title(label=f'year {yearpl}' )\n",
    "plt.legend(bbox_to_anchor=(1, 1), loc=2,fontsize='x-small') #loc=2 is for upper left"
   ]
  },
  {
   "cell_type": "markdown",
   "id": "04080e2e-0048-49e2-884e-59ea6f6ee91a",
   "metadata": {},
   "source": [
    "Step 11"
   ]
  },
  {
   "cell_type": "code",
   "execution_count": 53,
   "id": "a98e1b77-83c2-4fb4-86ba-a0d1db5634bb",
   "metadata": {},
   "outputs": [],
   "source": [
    "for yearpl in range (1960,2016) :\n",
    "    df_subset = df.loc[df['year'] == yearpl]\n",
    "    plt.figure(figsize=(12,8))\n",
    "    plt.axis(xmin=0,xmax=100,ymin=0,ymax=10)\n",
    "    sns.scatterplot(x='life_expectancy', y='fertility_rate', size='population',\n",
    "                    sizes = (5, 400), data=df_subset, alpha=0.6)\n",
    "    plt.title(label=f'year {yearpl}')\n",
    "    plt.legend(bbox_to_anchor=(1, 1), loc=2,fontsize='x-small')\n",
    "    plt.savefig('../data/png/lifeexp_'+str(yearpl)+'.png')  \n",
    "    plt.close()"
   ]
  },
  {
   "cell_type": "markdown",
   "id": "c522c7db-6b7c-4563-8dc0-2e13f5e19678",
   "metadata": {},
   "source": [
    "Step 12"
   ]
  },
  {
   "cell_type": "markdown",
   "id": "3c4451c0-de74-46e3-9dd8-4f9b83c25178",
   "metadata": {},
   "source": [
    "Add the parameter size='population' to the scatterplot generating loop"
   ]
  },
  {
   "cell_type": "markdown",
   "id": "47fd97a9-6ada-48d5-8ee8-0d6ec374ba6d",
   "metadata": {},
   "source": [
    "Step 13"
   ]
  },
  {
   "cell_type": "code",
   "execution_count": 50,
   "id": "50cfb98d-36ca-428f-a698-655d2432b482",
   "metadata": {},
   "outputs": [],
   "source": [
    "#pip install imageio"
   ]
  },
  {
   "cell_type": "code",
   "execution_count": 51,
   "id": "0eca8d33-4886-43f1-9af0-140104a3b82a",
   "metadata": {},
   "outputs": [],
   "source": [
    "import imageio\n",
    "\n",
    "images = []\n",
    "\n",
    "for i in range (1960,2016):    \n",
    "    #filename = 'lifeexp_'+str(i)+'.png' #alternativ\n",
    "    filename = 'lifeexp_{}.png'.format(i)\n",
    "    path = '/data/'\n",
    "    #print (filename)\n",
    "    images.append(imageio.imread(path+filename))\n",
    "imageio.mimsave('output.gif', images,fps=5) #consider using .imwrite() instead"
   ]
  },
  {
   "cell_type": "markdown",
   "id": "46f23f76-d225-42c4-9eb4-9013c9dd8656",
   "metadata": {
    "tags": []
   },
   "source": [
    "Additional Step: include continent information"
   ]
  },
  {
   "cell_type": "code",
   "execution_count": 52,
   "id": "80a73261-bc90-4808-aa0f-44c536583f93",
   "metadata": {},
   "outputs": [],
   "source": [
    "cont = pd.read_csv ('../data/continents.csv', delimiter=';')"
   ]
  },
  {
   "cell_type": "code",
   "execution_count": 53,
   "id": "54d060fc-0525-40c5-9609-4c646001cf41",
   "metadata": {},
   "outputs": [
    {
     "data": {
      "text/html": [
       "<div>\n",
       "<style scoped>\n",
       "    .dataframe tbody tr th:only-of-type {\n",
       "        vertical-align: middle;\n",
       "    }\n",
       "\n",
       "    .dataframe tbody tr th {\n",
       "        vertical-align: top;\n",
       "    }\n",
       "\n",
       "    .dataframe thead th {\n",
       "        text-align: right;\n",
       "    }\n",
       "</style>\n",
       "<table border=\"1\" class=\"dataframe\">\n",
       "  <thead>\n",
       "    <tr style=\"text-align: right;\">\n",
       "      <th></th>\n",
       "      <th>continent</th>\n",
       "      <th>country</th>\n",
       "    </tr>\n",
       "  </thead>\n",
       "  <tbody>\n",
       "    <tr>\n",
       "      <th>0</th>\n",
       "      <td>Africa</td>\n",
       "      <td>Algeria</td>\n",
       "    </tr>\n",
       "    <tr>\n",
       "      <th>1</th>\n",
       "      <td>Africa</td>\n",
       "      <td>Angola</td>\n",
       "    </tr>\n",
       "    <tr>\n",
       "      <th>2</th>\n",
       "      <td>Africa</td>\n",
       "      <td>Benin</td>\n",
       "    </tr>\n",
       "    <tr>\n",
       "      <th>3</th>\n",
       "      <td>Africa</td>\n",
       "      <td>Botswana</td>\n",
       "    </tr>\n",
       "    <tr>\n",
       "      <th>4</th>\n",
       "      <td>Africa</td>\n",
       "      <td>Burkina</td>\n",
       "    </tr>\n",
       "    <tr>\n",
       "      <th>...</th>\n",
       "      <td>...</td>\n",
       "      <td>...</td>\n",
       "    </tr>\n",
       "    <tr>\n",
       "      <th>189</th>\n",
       "      <td>South America</td>\n",
       "      <td>Paraguay</td>\n",
       "    </tr>\n",
       "    <tr>\n",
       "      <th>190</th>\n",
       "      <td>South America</td>\n",
       "      <td>Peru</td>\n",
       "    </tr>\n",
       "    <tr>\n",
       "      <th>191</th>\n",
       "      <td>South America</td>\n",
       "      <td>Suriname</td>\n",
       "    </tr>\n",
       "    <tr>\n",
       "      <th>192</th>\n",
       "      <td>South America</td>\n",
       "      <td>Uruguay</td>\n",
       "    </tr>\n",
       "    <tr>\n",
       "      <th>193</th>\n",
       "      <td>South America</td>\n",
       "      <td>Venezuela</td>\n",
       "    </tr>\n",
       "  </tbody>\n",
       "</table>\n",
       "<p>194 rows × 2 columns</p>\n",
       "</div>"
      ],
      "text/plain": [
       "         continent    country\n",
       "0           Africa    Algeria\n",
       "1           Africa     Angola\n",
       "2           Africa      Benin\n",
       "3           Africa   Botswana\n",
       "4           Africa    Burkina\n",
       "..             ...        ...\n",
       "189  South America   Paraguay\n",
       "190  South America       Peru\n",
       "191  South America   Suriname\n",
       "192  South America    Uruguay\n",
       "193  South America  Venezuela\n",
       "\n",
       "[194 rows x 2 columns]"
      ]
     },
     "execution_count": 53,
     "metadata": {},
     "output_type": "execute_result"
    }
   ],
   "source": [
    "cont"
   ]
  },
  {
   "cell_type": "code",
   "execution_count": 54,
   "id": "b8a507e4-6261-41d0-94c5-bcd1f096d211",
   "metadata": {},
   "outputs": [],
   "source": [
    "df_co = df.merge(cont)"
   ]
  },
  {
   "cell_type": "code",
   "execution_count": 55,
   "id": "3811cd1b-0b1f-4dca-9fe7-a664ed4a3ba1",
   "metadata": {},
   "outputs": [
    {
     "data": {
      "text/html": [
       "<div>\n",
       "<style scoped>\n",
       "    .dataframe tbody tr th:only-of-type {\n",
       "        vertical-align: middle;\n",
       "    }\n",
       "\n",
       "    .dataframe tbody tr th {\n",
       "        vertical-align: top;\n",
       "    }\n",
       "\n",
       "    .dataframe thead th {\n",
       "        text-align: right;\n",
       "    }\n",
       "</style>\n",
       "<table border=\"1\" class=\"dataframe\">\n",
       "  <thead>\n",
       "    <tr style=\"text-align: right;\">\n",
       "      <th></th>\n",
       "      <th>country</th>\n",
       "      <th>year</th>\n",
       "      <th>fertility_rate</th>\n",
       "      <th>population</th>\n",
       "      <th>life_expectancy</th>\n",
       "      <th>continent</th>\n",
       "    </tr>\n",
       "  </thead>\n",
       "  <tbody>\n",
       "    <tr>\n",
       "      <th>0</th>\n",
       "      <td>Afghanistan</td>\n",
       "      <td>1800.0</td>\n",
       "      <td>7.00</td>\n",
       "      <td>3280000.0</td>\n",
       "      <td>28.21</td>\n",
       "      <td>Asia</td>\n",
       "    </tr>\n",
       "    <tr>\n",
       "      <th>1</th>\n",
       "      <td>Afghanistan</td>\n",
       "      <td>1810.0</td>\n",
       "      <td>7.00</td>\n",
       "      <td>3280000.0</td>\n",
       "      <td>28.11</td>\n",
       "      <td>Asia</td>\n",
       "    </tr>\n",
       "    <tr>\n",
       "      <th>2</th>\n",
       "      <td>Afghanistan</td>\n",
       "      <td>1820.0</td>\n",
       "      <td>7.00</td>\n",
       "      <td>3323519.0</td>\n",
       "      <td>28.01</td>\n",
       "      <td>Asia</td>\n",
       "    </tr>\n",
       "    <tr>\n",
       "      <th>3</th>\n",
       "      <td>Afghanistan</td>\n",
       "      <td>1830.0</td>\n",
       "      <td>7.00</td>\n",
       "      <td>3448982.0</td>\n",
       "      <td>27.90</td>\n",
       "      <td>Asia</td>\n",
       "    </tr>\n",
       "    <tr>\n",
       "      <th>4</th>\n",
       "      <td>Afghanistan</td>\n",
       "      <td>1840.0</td>\n",
       "      <td>7.00</td>\n",
       "      <td>3625022.0</td>\n",
       "      <td>27.80</td>\n",
       "      <td>Asia</td>\n",
       "    </tr>\n",
       "    <tr>\n",
       "      <th>...</th>\n",
       "      <td>...</td>\n",
       "      <td>...</td>\n",
       "      <td>...</td>\n",
       "      <td>...</td>\n",
       "      <td>...</td>\n",
       "      <td>...</td>\n",
       "    </tr>\n",
       "    <tr>\n",
       "      <th>14170</th>\n",
       "      <td>Zimbabwe</td>\n",
       "      <td>2011.0</td>\n",
       "      <td>3.64</td>\n",
       "      <td>14255592.0</td>\n",
       "      <td>51.60</td>\n",
       "      <td>Africa</td>\n",
       "    </tr>\n",
       "    <tr>\n",
       "      <th>14171</th>\n",
       "      <td>Zimbabwe</td>\n",
       "      <td>2012.0</td>\n",
       "      <td>3.56</td>\n",
       "      <td>14565482.0</td>\n",
       "      <td>54.20</td>\n",
       "      <td>Africa</td>\n",
       "    </tr>\n",
       "    <tr>\n",
       "      <th>14172</th>\n",
       "      <td>Zimbabwe</td>\n",
       "      <td>2013.0</td>\n",
       "      <td>3.49</td>\n",
       "      <td>14898092.0</td>\n",
       "      <td>55.70</td>\n",
       "      <td>Africa</td>\n",
       "    </tr>\n",
       "    <tr>\n",
       "      <th>14173</th>\n",
       "      <td>Zimbabwe</td>\n",
       "      <td>2014.0</td>\n",
       "      <td>3.41</td>\n",
       "      <td>15245855.0</td>\n",
       "      <td>57.00</td>\n",
       "      <td>Africa</td>\n",
       "    </tr>\n",
       "    <tr>\n",
       "      <th>14174</th>\n",
       "      <td>Zimbabwe</td>\n",
       "      <td>2015.0</td>\n",
       "      <td>3.35</td>\n",
       "      <td>15602751.0</td>\n",
       "      <td>59.30</td>\n",
       "      <td>Africa</td>\n",
       "    </tr>\n",
       "  </tbody>\n",
       "</table>\n",
       "<p>14175 rows × 6 columns</p>\n",
       "</div>"
      ],
      "text/plain": [
       "           country    year  fertility_rate  population  life_expectancy  \\\n",
       "0      Afghanistan  1800.0            7.00   3280000.0            28.21   \n",
       "1      Afghanistan  1810.0            7.00   3280000.0            28.11   \n",
       "2      Afghanistan  1820.0            7.00   3323519.0            28.01   \n",
       "3      Afghanistan  1830.0            7.00   3448982.0            27.90   \n",
       "4      Afghanistan  1840.0            7.00   3625022.0            27.80   \n",
       "...            ...     ...             ...         ...              ...   \n",
       "14170     Zimbabwe  2011.0            3.64  14255592.0            51.60   \n",
       "14171     Zimbabwe  2012.0            3.56  14565482.0            54.20   \n",
       "14172     Zimbabwe  2013.0            3.49  14898092.0            55.70   \n",
       "14173     Zimbabwe  2014.0            3.41  15245855.0            57.00   \n",
       "14174     Zimbabwe  2015.0            3.35  15602751.0            59.30   \n",
       "\n",
       "      continent  \n",
       "0          Asia  \n",
       "1          Asia  \n",
       "2          Asia  \n",
       "3          Asia  \n",
       "4          Asia  \n",
       "...         ...  \n",
       "14170    Africa  \n",
       "14171    Africa  \n",
       "14172    Africa  \n",
       "14173    Africa  \n",
       "14174    Africa  \n",
       "\n",
       "[14175 rows x 6 columns]"
      ]
     },
     "execution_count": 55,
     "metadata": {},
     "output_type": "execute_result"
    }
   ],
   "source": [
    "df_co"
   ]
  },
  {
   "cell_type": "code",
   "execution_count": 58,
   "id": "7f45cd9f-c3f7-442a-8cb2-4c5ec3e9579e",
   "metadata": {},
   "outputs": [],
   "source": [
    "for yearpl in range (1960,2016) :\n",
    "    df_subset = df_co.loc[df_co['year'] == yearpl]\n",
    "    plt.figure(figsize=(10,6))\n",
    "    plt.axis(xmin=0,xmax=100,ymin=0,ymax=10)\n",
    "    sns.scatterplot(x='life_expectancy', y='fertility_rate', size='population',\n",
    "                    sizes = (5, 400), hue='continent', data=df_subset, alpha=0.7)\n",
    "    plt.title(label=f'year {yearpl}')\n",
    "    plt.legend(bbox_to_anchor=(1, 1), loc=2,fontsize='x-small')\n",
    "    plt.savefig('lifeexpco_'+str(yearpl)+'.png')  \n",
    "    plt.close()"
   ]
  },
  {
   "cell_type": "code",
   "execution_count": 61,
   "id": "349ea990-676d-4f6e-a178-29ebf76ef5a9",
   "metadata": {},
   "outputs": [],
   "source": [
    "images = []\n",
    "\n",
    "for i in range (1960,2016):    \n",
    "    #filename = 'lifeexp_'+str(i)+'.png' #alternativ\n",
    "    filename = 'lifeexpco_{}.png'.format(i)\n",
    "    #print (filename)\n",
    "    images.append(imageio.imread(filename))\n",
    "imageio.mimsave('outputco.gif', images,fps=5)"
   ]
  }
 ],
 "metadata": {
  "kernelspec": {
   "display_name": "Python 3 (ipykernel)",
   "language": "python",
   "name": "python3"
  },
  "language_info": {
   "codemirror_mode": {
    "name": "ipython",
    "version": 3
   },
   "file_extension": ".py",
   "mimetype": "text/x-python",
   "name": "python",
   "nbconvert_exporter": "python",
   "pygments_lexer": "ipython3",
   "version": "3.9.7"
  }
 },
 "nbformat": 4,
 "nbformat_minor": 5
}
