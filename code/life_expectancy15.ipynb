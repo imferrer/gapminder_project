{
 "cells": [
  {
   "cell_type": "markdown",
   "id": "6d190faa-2fef-4d6c-81b0-7250af599d5b",
   "metadata": {},
   "source": [
    "### Bulding a Life Expectancy Histogram"
   ]
  },
  {
   "cell_type": "markdown",
   "id": "87b3b1a6-cec0-42fd-be01-736a1d5a13da",
   "metadata": {},
   "source": [
    "Step 1: Loading files"
   ]
  },
  {
   "cell_type": "code",
   "execution_count": 1,
   "id": "dea0323f-c1db-49fb-85f1-30abb1310bce",
   "metadata": {},
   "outputs": [],
   "source": [
    "import pandas as pd"
   ]
  },
  {
   "cell_type": "code",
   "execution_count": 2,
   "id": "2dd58273-cbc1-4e13-95ba-3fa769fc1abd",
   "metadata": {},
   "outputs": [],
   "source": [
    "lifeexp = pd.read_excel('../data/gapminder_lifeexpectancy.xlsx'\n",
    "                        ,index_col=0)                         "
   ]
  },
  {
   "cell_type": "code",
   "execution_count": 3,
   "id": "3eadead9-7bab-4797-a82b-dbd3d509238f",
   "metadata": {},
   "outputs": [
    {
     "data": {
      "text/html": [
       "<div>\n",
       "<style scoped>\n",
       "    .dataframe tbody tr th:only-of-type {\n",
       "        vertical-align: middle;\n",
       "    }\n",
       "\n",
       "    .dataframe tbody tr th {\n",
       "        vertical-align: top;\n",
       "    }\n",
       "\n",
       "    .dataframe thead th {\n",
       "        text-align: right;\n",
       "    }\n",
       "</style>\n",
       "<table border=\"1\" class=\"dataframe\">\n",
       "  <thead>\n",
       "    <tr style=\"text-align: right;\">\n",
       "      <th></th>\n",
       "      <th>1800.0</th>\n",
       "      <th>1801.0</th>\n",
       "      <th>1802.0</th>\n",
       "      <th>1803.0</th>\n",
       "      <th>1804.0</th>\n",
       "      <th>1805.0</th>\n",
       "      <th>1806.0</th>\n",
       "      <th>1807.0</th>\n",
       "      <th>1808.0</th>\n",
       "      <th>1809.0</th>\n",
       "      <th>...</th>\n",
       "      <th>2007.0</th>\n",
       "      <th>2008.0</th>\n",
       "      <th>2009.0</th>\n",
       "      <th>2010.0</th>\n",
       "      <th>2011.0</th>\n",
       "      <th>2012.0</th>\n",
       "      <th>2013.0</th>\n",
       "      <th>2014.0</th>\n",
       "      <th>2015.0</th>\n",
       "      <th>2016.0</th>\n",
       "    </tr>\n",
       "    <tr>\n",
       "      <th>Life expectancy</th>\n",
       "      <th></th>\n",
       "      <th></th>\n",
       "      <th></th>\n",
       "      <th></th>\n",
       "      <th></th>\n",
       "      <th></th>\n",
       "      <th></th>\n",
       "      <th></th>\n",
       "      <th></th>\n",
       "      <th></th>\n",
       "      <th></th>\n",
       "      <th></th>\n",
       "      <th></th>\n",
       "      <th></th>\n",
       "      <th></th>\n",
       "      <th></th>\n",
       "      <th></th>\n",
       "      <th></th>\n",
       "      <th></th>\n",
       "      <th></th>\n",
       "      <th></th>\n",
       "    </tr>\n",
       "  </thead>\n",
       "  <tbody>\n",
       "    <tr>\n",
       "      <th>Abkhazia</th>\n",
       "      <td>NaN</td>\n",
       "      <td>NaN</td>\n",
       "      <td>NaN</td>\n",
       "      <td>NaN</td>\n",
       "      <td>NaN</td>\n",
       "      <td>NaN</td>\n",
       "      <td>NaN</td>\n",
       "      <td>NaN</td>\n",
       "      <td>NaN</td>\n",
       "      <td>NaN</td>\n",
       "      <td>...</td>\n",
       "      <td>NaN</td>\n",
       "      <td>NaN</td>\n",
       "      <td>NaN</td>\n",
       "      <td>NaN</td>\n",
       "      <td>NaN</td>\n",
       "      <td>NaN</td>\n",
       "      <td>NaN</td>\n",
       "      <td>NaN</td>\n",
       "      <td>NaN</td>\n",
       "      <td>NaN</td>\n",
       "    </tr>\n",
       "    <tr>\n",
       "      <th>Afghanistan</th>\n",
       "      <td>28.21</td>\n",
       "      <td>28.20</td>\n",
       "      <td>28.19</td>\n",
       "      <td>28.18</td>\n",
       "      <td>28.17</td>\n",
       "      <td>28.16</td>\n",
       "      <td>28.15</td>\n",
       "      <td>28.14</td>\n",
       "      <td>28.13</td>\n",
       "      <td>28.12</td>\n",
       "      <td>...</td>\n",
       "      <td>52.4</td>\n",
       "      <td>52.8</td>\n",
       "      <td>53.3</td>\n",
       "      <td>53.6</td>\n",
       "      <td>54.0</td>\n",
       "      <td>54.4</td>\n",
       "      <td>54.8</td>\n",
       "      <td>54.9</td>\n",
       "      <td>53.8</td>\n",
       "      <td>52.72</td>\n",
       "    </tr>\n",
       "    <tr>\n",
       "      <th>Akrotiri and Dhekelia</th>\n",
       "      <td>NaN</td>\n",
       "      <td>NaN</td>\n",
       "      <td>NaN</td>\n",
       "      <td>NaN</td>\n",
       "      <td>NaN</td>\n",
       "      <td>NaN</td>\n",
       "      <td>NaN</td>\n",
       "      <td>NaN</td>\n",
       "      <td>NaN</td>\n",
       "      <td>NaN</td>\n",
       "      <td>...</td>\n",
       "      <td>NaN</td>\n",
       "      <td>NaN</td>\n",
       "      <td>NaN</td>\n",
       "      <td>NaN</td>\n",
       "      <td>NaN</td>\n",
       "      <td>NaN</td>\n",
       "      <td>NaN</td>\n",
       "      <td>NaN</td>\n",
       "      <td>NaN</td>\n",
       "      <td>NaN</td>\n",
       "    </tr>\n",
       "    <tr>\n",
       "      <th>Albania</th>\n",
       "      <td>35.40</td>\n",
       "      <td>35.40</td>\n",
       "      <td>35.40</td>\n",
       "      <td>35.40</td>\n",
       "      <td>35.40</td>\n",
       "      <td>35.40</td>\n",
       "      <td>35.40</td>\n",
       "      <td>35.40</td>\n",
       "      <td>35.40</td>\n",
       "      <td>35.40</td>\n",
       "      <td>...</td>\n",
       "      <td>76.6</td>\n",
       "      <td>76.8</td>\n",
       "      <td>77.0</td>\n",
       "      <td>77.2</td>\n",
       "      <td>77.4</td>\n",
       "      <td>77.5</td>\n",
       "      <td>77.7</td>\n",
       "      <td>77.9</td>\n",
       "      <td>78.0</td>\n",
       "      <td>78.10</td>\n",
       "    </tr>\n",
       "    <tr>\n",
       "      <th>Algeria</th>\n",
       "      <td>28.82</td>\n",
       "      <td>28.82</td>\n",
       "      <td>28.82</td>\n",
       "      <td>28.82</td>\n",
       "      <td>28.82</td>\n",
       "      <td>28.82</td>\n",
       "      <td>28.82</td>\n",
       "      <td>28.82</td>\n",
       "      <td>28.82</td>\n",
       "      <td>28.82</td>\n",
       "      <td>...</td>\n",
       "      <td>75.3</td>\n",
       "      <td>75.5</td>\n",
       "      <td>75.7</td>\n",
       "      <td>76.0</td>\n",
       "      <td>76.1</td>\n",
       "      <td>76.2</td>\n",
       "      <td>76.3</td>\n",
       "      <td>76.3</td>\n",
       "      <td>76.4</td>\n",
       "      <td>76.50</td>\n",
       "    </tr>\n",
       "    <tr>\n",
       "      <th>...</th>\n",
       "      <td>...</td>\n",
       "      <td>...</td>\n",
       "      <td>...</td>\n",
       "      <td>...</td>\n",
       "      <td>...</td>\n",
       "      <td>...</td>\n",
       "      <td>...</td>\n",
       "      <td>...</td>\n",
       "      <td>...</td>\n",
       "      <td>...</td>\n",
       "      <td>...</td>\n",
       "      <td>...</td>\n",
       "      <td>...</td>\n",
       "      <td>...</td>\n",
       "      <td>...</td>\n",
       "      <td>...</td>\n",
       "      <td>...</td>\n",
       "      <td>...</td>\n",
       "      <td>...</td>\n",
       "      <td>...</td>\n",
       "      <td>...</td>\n",
       "    </tr>\n",
       "    <tr>\n",
       "      <th>Yugoslavia</th>\n",
       "      <td>NaN</td>\n",
       "      <td>NaN</td>\n",
       "      <td>NaN</td>\n",
       "      <td>NaN</td>\n",
       "      <td>NaN</td>\n",
       "      <td>NaN</td>\n",
       "      <td>NaN</td>\n",
       "      <td>NaN</td>\n",
       "      <td>NaN</td>\n",
       "      <td>NaN</td>\n",
       "      <td>...</td>\n",
       "      <td>NaN</td>\n",
       "      <td>NaN</td>\n",
       "      <td>NaN</td>\n",
       "      <td>NaN</td>\n",
       "      <td>NaN</td>\n",
       "      <td>NaN</td>\n",
       "      <td>NaN</td>\n",
       "      <td>NaN</td>\n",
       "      <td>NaN</td>\n",
       "      <td>NaN</td>\n",
       "    </tr>\n",
       "    <tr>\n",
       "      <th>Zambia</th>\n",
       "      <td>32.60</td>\n",
       "      <td>32.60</td>\n",
       "      <td>32.60</td>\n",
       "      <td>32.60</td>\n",
       "      <td>32.60</td>\n",
       "      <td>32.60</td>\n",
       "      <td>32.60</td>\n",
       "      <td>32.60</td>\n",
       "      <td>32.60</td>\n",
       "      <td>32.60</td>\n",
       "      <td>...</td>\n",
       "      <td>49.0</td>\n",
       "      <td>51.1</td>\n",
       "      <td>52.3</td>\n",
       "      <td>53.1</td>\n",
       "      <td>53.7</td>\n",
       "      <td>54.7</td>\n",
       "      <td>55.6</td>\n",
       "      <td>56.3</td>\n",
       "      <td>56.7</td>\n",
       "      <td>57.10</td>\n",
       "    </tr>\n",
       "    <tr>\n",
       "      <th>Zimbabwe</th>\n",
       "      <td>33.70</td>\n",
       "      <td>33.70</td>\n",
       "      <td>33.70</td>\n",
       "      <td>33.70</td>\n",
       "      <td>33.70</td>\n",
       "      <td>33.70</td>\n",
       "      <td>33.70</td>\n",
       "      <td>33.70</td>\n",
       "      <td>33.70</td>\n",
       "      <td>33.70</td>\n",
       "      <td>...</td>\n",
       "      <td>46.4</td>\n",
       "      <td>47.3</td>\n",
       "      <td>48.0</td>\n",
       "      <td>49.1</td>\n",
       "      <td>51.6</td>\n",
       "      <td>54.2</td>\n",
       "      <td>55.7</td>\n",
       "      <td>57.0</td>\n",
       "      <td>59.3</td>\n",
       "      <td>61.69</td>\n",
       "    </tr>\n",
       "    <tr>\n",
       "      <th>Åland</th>\n",
       "      <td>NaN</td>\n",
       "      <td>NaN</td>\n",
       "      <td>NaN</td>\n",
       "      <td>NaN</td>\n",
       "      <td>NaN</td>\n",
       "      <td>NaN</td>\n",
       "      <td>NaN</td>\n",
       "      <td>NaN</td>\n",
       "      <td>NaN</td>\n",
       "      <td>NaN</td>\n",
       "      <td>...</td>\n",
       "      <td>NaN</td>\n",
       "      <td>NaN</td>\n",
       "      <td>NaN</td>\n",
       "      <td>NaN</td>\n",
       "      <td>NaN</td>\n",
       "      <td>NaN</td>\n",
       "      <td>NaN</td>\n",
       "      <td>NaN</td>\n",
       "      <td>NaN</td>\n",
       "      <td>NaN</td>\n",
       "    </tr>\n",
       "    <tr>\n",
       "      <th>South Sudan</th>\n",
       "      <td>26.67</td>\n",
       "      <td>26.67</td>\n",
       "      <td>26.67</td>\n",
       "      <td>26.67</td>\n",
       "      <td>26.67</td>\n",
       "      <td>26.67</td>\n",
       "      <td>26.67</td>\n",
       "      <td>26.67</td>\n",
       "      <td>26.67</td>\n",
       "      <td>26.67</td>\n",
       "      <td>...</td>\n",
       "      <td>55.5</td>\n",
       "      <td>55.6</td>\n",
       "      <td>55.8</td>\n",
       "      <td>56.0</td>\n",
       "      <td>55.9</td>\n",
       "      <td>56.0</td>\n",
       "      <td>56.0</td>\n",
       "      <td>56.1</td>\n",
       "      <td>56.1</td>\n",
       "      <td>56.10</td>\n",
       "    </tr>\n",
       "  </tbody>\n",
       "</table>\n",
       "<p>260 rows × 217 columns</p>\n",
       "</div>"
      ],
      "text/plain": [
       "                       1800.0  1801.0  1802.0  1803.0  1804.0  1805.0  1806.0  \\\n",
       "Life expectancy                                                                 \n",
       "Abkhazia                  NaN     NaN     NaN     NaN     NaN     NaN     NaN   \n",
       "Afghanistan             28.21   28.20   28.19   28.18   28.17   28.16   28.15   \n",
       "Akrotiri and Dhekelia     NaN     NaN     NaN     NaN     NaN     NaN     NaN   \n",
       "Albania                 35.40   35.40   35.40   35.40   35.40   35.40   35.40   \n",
       "Algeria                 28.82   28.82   28.82   28.82   28.82   28.82   28.82   \n",
       "...                       ...     ...     ...     ...     ...     ...     ...   \n",
       "Yugoslavia                NaN     NaN     NaN     NaN     NaN     NaN     NaN   \n",
       "Zambia                  32.60   32.60   32.60   32.60   32.60   32.60   32.60   \n",
       "Zimbabwe                33.70   33.70   33.70   33.70   33.70   33.70   33.70   \n",
       "Åland                     NaN     NaN     NaN     NaN     NaN     NaN     NaN   \n",
       "South Sudan             26.67   26.67   26.67   26.67   26.67   26.67   26.67   \n",
       "\n",
       "                       1807.0  1808.0  1809.0  ...  2007.0  2008.0  2009.0  \\\n",
       "Life expectancy                                ...                           \n",
       "Abkhazia                  NaN     NaN     NaN  ...     NaN     NaN     NaN   \n",
       "Afghanistan             28.14   28.13   28.12  ...    52.4    52.8    53.3   \n",
       "Akrotiri and Dhekelia     NaN     NaN     NaN  ...     NaN     NaN     NaN   \n",
       "Albania                 35.40   35.40   35.40  ...    76.6    76.8    77.0   \n",
       "Algeria                 28.82   28.82   28.82  ...    75.3    75.5    75.7   \n",
       "...                       ...     ...     ...  ...     ...     ...     ...   \n",
       "Yugoslavia                NaN     NaN     NaN  ...     NaN     NaN     NaN   \n",
       "Zambia                  32.60   32.60   32.60  ...    49.0    51.1    52.3   \n",
       "Zimbabwe                33.70   33.70   33.70  ...    46.4    47.3    48.0   \n",
       "Åland                     NaN     NaN     NaN  ...     NaN     NaN     NaN   \n",
       "South Sudan             26.67   26.67   26.67  ...    55.5    55.6    55.8   \n",
       "\n",
       "                       2010.0  2011.0  2012.0  2013.0  2014.0  2015.0  2016.0  \n",
       "Life expectancy                                                                \n",
       "Abkhazia                  NaN     NaN     NaN     NaN     NaN     NaN     NaN  \n",
       "Afghanistan              53.6    54.0    54.4    54.8    54.9    53.8   52.72  \n",
       "Akrotiri and Dhekelia     NaN     NaN     NaN     NaN     NaN     NaN     NaN  \n",
       "Albania                  77.2    77.4    77.5    77.7    77.9    78.0   78.10  \n",
       "Algeria                  76.0    76.1    76.2    76.3    76.3    76.4   76.50  \n",
       "...                       ...     ...     ...     ...     ...     ...     ...  \n",
       "Yugoslavia                NaN     NaN     NaN     NaN     NaN     NaN     NaN  \n",
       "Zambia                   53.1    53.7    54.7    55.6    56.3    56.7   57.10  \n",
       "Zimbabwe                 49.1    51.6    54.2    55.7    57.0    59.3   61.69  \n",
       "Åland                     NaN     NaN     NaN     NaN     NaN     NaN     NaN  \n",
       "South Sudan              56.0    55.9    56.0    56.0    56.1    56.1   56.10  \n",
       "\n",
       "[260 rows x 217 columns]"
      ]
     },
     "execution_count": 3,
     "metadata": {},
     "output_type": "execute_result"
    }
   ],
   "source": [
    "lifeexp"
   ]
  },
  {
   "cell_type": "markdown",
   "id": "e986aaa0-9e68-4b05-bba8-9c2d2c156526",
   "metadata": {},
   "source": [
    "Reading the rest of the files:"
   ]
  },
  {
   "cell_type": "code",
   "execution_count": 4,
   "id": "406e2e2a-28f3-4549-925c-6882b55a196e",
   "metadata": {},
   "outputs": [
    {
     "data": {
      "text/plain": [
       "1800.0    float64\n",
       "1801.0    float64\n",
       "1802.0    float64\n",
       "1803.0    float64\n",
       "1804.0    float64\n",
       "           ...   \n",
       "2012.0    float64\n",
       "2013.0    float64\n",
       "2014.0    float64\n",
       "2015.0    float64\n",
       "2016.0    float64\n",
       "Length: 217, dtype: object"
      ]
     },
     "execution_count": 4,
     "metadata": {},
     "output_type": "execute_result"
    }
   ],
   "source": [
    "lifeexp.dtypes #excel values appear as float64 and not as integer"
   ]
  },
  {
   "cell_type": "code",
   "execution_count": 5,
   "id": "1fcc4e5f-2551-4988-8bff-b81342d56135",
   "metadata": {},
   "outputs": [],
   "source": [
    "continents = pd.read_csv('../data/continents.csv',sep=';')"
   ]
  },
  {
   "cell_type": "code",
   "execution_count": 6,
   "id": "414c3f5e-523c-4186-9062-a311377f9141",
   "metadata": {},
   "outputs": [
    {
     "data": {
      "text/html": [
       "<div>\n",
       "<style scoped>\n",
       "    .dataframe tbody tr th:only-of-type {\n",
       "        vertical-align: middle;\n",
       "    }\n",
       "\n",
       "    .dataframe tbody tr th {\n",
       "        vertical-align: top;\n",
       "    }\n",
       "\n",
       "    .dataframe thead th {\n",
       "        text-align: right;\n",
       "    }\n",
       "</style>\n",
       "<table border=\"1\" class=\"dataframe\">\n",
       "  <thead>\n",
       "    <tr style=\"text-align: right;\">\n",
       "      <th></th>\n",
       "      <th>continent</th>\n",
       "      <th>country</th>\n",
       "    </tr>\n",
       "  </thead>\n",
       "  <tbody>\n",
       "    <tr>\n",
       "      <th>0</th>\n",
       "      <td>Africa</td>\n",
       "      <td>Algeria</td>\n",
       "    </tr>\n",
       "    <tr>\n",
       "      <th>1</th>\n",
       "      <td>Africa</td>\n",
       "      <td>Angola</td>\n",
       "    </tr>\n",
       "    <tr>\n",
       "      <th>2</th>\n",
       "      <td>Africa</td>\n",
       "      <td>Benin</td>\n",
       "    </tr>\n",
       "    <tr>\n",
       "      <th>3</th>\n",
       "      <td>Africa</td>\n",
       "      <td>Botswana</td>\n",
       "    </tr>\n",
       "    <tr>\n",
       "      <th>4</th>\n",
       "      <td>Africa</td>\n",
       "      <td>Burkina</td>\n",
       "    </tr>\n",
       "    <tr>\n",
       "      <th>...</th>\n",
       "      <td>...</td>\n",
       "      <td>...</td>\n",
       "    </tr>\n",
       "    <tr>\n",
       "      <th>189</th>\n",
       "      <td>South America</td>\n",
       "      <td>Paraguay</td>\n",
       "    </tr>\n",
       "    <tr>\n",
       "      <th>190</th>\n",
       "      <td>South America</td>\n",
       "      <td>Peru</td>\n",
       "    </tr>\n",
       "    <tr>\n",
       "      <th>191</th>\n",
       "      <td>South America</td>\n",
       "      <td>Suriname</td>\n",
       "    </tr>\n",
       "    <tr>\n",
       "      <th>192</th>\n",
       "      <td>South America</td>\n",
       "      <td>Uruguay</td>\n",
       "    </tr>\n",
       "    <tr>\n",
       "      <th>193</th>\n",
       "      <td>South America</td>\n",
       "      <td>Venezuela</td>\n",
       "    </tr>\n",
       "  </tbody>\n",
       "</table>\n",
       "<p>194 rows × 2 columns</p>\n",
       "</div>"
      ],
      "text/plain": [
       "         continent    country\n",
       "0           Africa    Algeria\n",
       "1           Africa     Angola\n",
       "2           Africa      Benin\n",
       "3           Africa   Botswana\n",
       "4           Africa    Burkina\n",
       "..             ...        ...\n",
       "189  South America   Paraguay\n",
       "190  South America       Peru\n",
       "191  South America   Suriname\n",
       "192  South America    Uruguay\n",
       "193  South America  Venezuela\n",
       "\n",
       "[194 rows x 2 columns]"
      ]
     },
     "execution_count": 6,
     "metadata": {},
     "output_type": "execute_result"
    }
   ],
   "source": [
    "continents"
   ]
  },
  {
   "cell_type": "code",
   "execution_count": 7,
   "id": "d33c8f9f-1276-4715-94d0-bfb4012db272",
   "metadata": {},
   "outputs": [],
   "source": [
    "fertility = pd.read_csv('../data/gapminder_total_fertility.csv')"
   ]
  },
  {
   "cell_type": "code",
   "execution_count": 8,
   "id": "284dccd1-0d4f-40b0-8761-486f350eaf09",
   "metadata": {},
   "outputs": [],
   "source": [
    "population = pd.read_excel('../data/gapminder_population.xlsx')"
   ]
  },
  {
   "cell_type": "markdown",
   "id": "711e8314-c558-4cfc-9ca0-345a2d0819f1",
   "metadata": {},
   "source": [
    "Step 2: selecting columns"
   ]
  },
  {
   "cell_type": "code",
   "execution_count": 9,
   "id": "f650d02a-15de-4014-994b-26939483b358",
   "metadata": {
    "tags": []
   },
   "outputs": [],
   "source": [
    "lifeexp_sub = lifeexp [[1950,1979,1983,1984,2015]]"
   ]
  },
  {
   "cell_type": "markdown",
   "id": "4d6e7f31-7d78-4655-8e82-38bc4bc9c3c9",
   "metadata": {},
   "source": [
    "Step 3: Draw Histogram"
   ]
  },
  {
   "cell_type": "code",
   "execution_count": 10,
   "id": "5e5b38d8-d74d-4aad-ae0c-a41b86444d30",
   "metadata": {},
   "outputs": [
    {
     "data": {
      "image/png": "[encoded data removed]",
      "text/plain": [
       "<Figure size 432x288 with 1 Axes>"
      ]
     },
     "metadata": {
      "needs_background": "light"
     },
     "output_type": "display_data"
    }
   ],
   "source": [
    "import matplotlib.pyplot as plt\n",
    "\n",
    "lifeexp_sub[2015].hist()\n",
    "plt.savefig('histo.png')"
   ]
  },
  {
   "cell_type": "markdown",
   "id": "a64d0713-75f8-42c5-8160-02c1d37e0bd2",
   "metadata": {
    "tags": []
   },
   "source": [
    "Step 4: Trying values"
   ]
  },
  {
   "cell_type": "code",
   "execution_count": 11,
   "id": "b1a90230-8bc3-4769-b9e7-e08cbc43a895",
   "metadata": {},
   "outputs": [
    {
     "data": {
      "text/plain": [
       "<AxesSubplot:>"
      ]
     },
     "execution_count": 11,
     "metadata": {},
     "output_type": "execute_result"
    },
    {
     "data": {
      "image/png": "[encoded data removed]",
      "text/plain": [
       "<Figure size 432x288 with 1 Axes>"
      ]
     },
     "metadata": {
      "needs_background": "light"
     },
     "output_type": "display_data"
    }
   ],
   "source": [
    "lifeexp_sub[1979].hist(bins=20, histtype='step')"
   ]
  },
  {
   "cell_type": "code",
   "execution_count": 12,
   "id": "48cdff87-dafd-437a-b5fb-94e449003d2e",
   "metadata": {},
   "outputs": [
    {
     "data": {
      "text/plain": [
       "<AxesSubplot:>"
      ]
     },
     "execution_count": 12,
     "metadata": {},
     "output_type": "execute_result"
    },
    {
     "data": {
      "image/png": "[encoded data removed]",
      "text/plain": [
       "<Figure size 432x288 with 1 Axes>"
      ]
     },
     "metadata": {
      "needs_background": "light"
     },
     "output_type": "display_data"
    }
   ],
   "source": [
    "lifeexp_sub[1983].hist(bins=15)"
   ]
  },
  {
   "cell_type": "markdown",
   "id": "5156e226-aac7-4476-98a4-753a69a54b7c",
   "metadata": {},
   "source": [
    "Step 5: Modifying the plot"
   ]
  },
  {
   "cell_type": "code",
   "execution_count": 13,
   "id": "adab6288-6c01-4dd2-8f86-5b3720199ed5",
   "metadata": {},
   "outputs": [
    {
     "data": {
      "text/plain": [
       "Text(0, 0.5, 'frequency')"
      ]
     },
     "execution_count": 13,
     "metadata": {},
     "output_type": "execute_result"
    },
    {
     "data": {
      "image/png": "[encoded data removed]",
      "text/plain": [
       "<Figure size 432x288 with 1 Axes>"
      ]
     },
     "metadata": {
      "needs_background": "light"
     },
     "output_type": "display_data"
    }
   ],
   "source": [
    "lifeexp_sub[1983].hist(bins=15, histtype='bar')\n",
    "plt.title ('life expectancy in 1983')\n",
    "plt.xlabel ('life expectancy')\n",
    "plt.ylabel ('frequency')"
   ]
  },
  {
   "cell_type": "markdown",
   "id": "a41af790-fb6b-4118-ac86-836c8f00da3e",
   "metadata": {},
   "source": [
    "Step 6: min and max values"
   ]
  },
  {
   "cell_type": "code",
   "execution_count": 14,
   "id": "b29a1245-100a-4ac3-854a-0a7a304d0909",
   "metadata": {},
   "outputs": [
    {
     "data": {
      "text/plain": [
       "(0.0, 80.0, 0.0, 50.0)"
      ]
     },
     "execution_count": 14,
     "metadata": {},
     "output_type": "execute_result"
    },
    {
     "data": {
      "image/png": "[encoded data removed]",
      "text/plain": [
       "<Figure size 432x288 with 1 Axes>"
      ]
     },
     "metadata": {
      "needs_background": "light"
     },
     "output_type": "display_data"
    }
   ],
   "source": [
    "lifeexp_sub[1979].hist(bins=15)\n",
    "plt.title ('life expectancy in 1979')\n",
    "plt.xlabel ('life expectancy')\n",
    "plt.ylabel ('frequency')\n",
    "plt.axis([0.0,80.0,0.0,50.0])"
   ]
  },
  {
   "cell_type": "markdown",
   "id": "159ad108-6529-4ed8-81b9-ceb716917b96",
   "metadata": {},
   "source": [
    "Step 7: additional parameters"
   ]
  },
  {
   "cell_type": "code",
   "execution_count": 15,
   "id": "5a7883cf-4fa4-4c97-bbfc-bdc9f7822f41",
   "metadata": {},
   "outputs": [
    {
     "data": {
      "text/plain": [
       "(10.0, 80.0, 0.0, 45.0)"
      ]
     },
     "execution_count": 15,
     "metadata": {},
     "output_type": "execute_result"
    },
    {
     "data": {
      "image/png": "[encoded data removed]",
      "text/plain": [
       "<Figure size 432x288 with 1 Axes>"
      ]
     },
     "metadata": {
      "needs_background": "light"
     },
     "output_type": "display_data"
    }
   ],
   "source": [
    "lifeexp_sub[1984].hist(facecolor='#ff0000', bins=15,alpha=0.7)\n",
    "plt.title ('life expectancy in 1984')\n",
    "plt.xlabel ('life expectancy')\n",
    "plt.ylabel ('frequency')\n",
    "plt.axis([10,80.0,0.0,45.0])\n"
   ]
  },
  {
   "cell_type": "code",
   "execution_count": 16,
   "id": "77901958-c5f3-4afa-949f-bcfe0e448702",
   "metadata": {},
   "outputs": [
    {
     "data": {
      "text/plain": [
       "(10.0, 80.0, 0.0, 45.0)"
      ]
     },
     "execution_count": 16,
     "metadata": {},
     "output_type": "execute_result"
    },
    {
     "data": {
      "image/png": "[encoded data removed]",
      "text/plain": [
       "<Figure size 432x288 with 1 Axes>"
      ]
     },
     "metadata": {
      "needs_background": "light"
     },
     "output_type": "display_data"
    }
   ],
   "source": [
    "lifeexp_sub[1950].hist(facecolor='#ff5555', bins=15,alpha=0.6, histtype='step')\n",
    "plt.title ('life expectancy in 1950')\n",
    "plt.xlabel ('life expectancy')\n",
    "plt.ylabel ('frequency')\n",
    "plt.axis([10,80.0,0.0,45.0])"
   ]
  },
  {
   "cell_type": "markdown",
   "id": "1340d7b2-62da-41c7-8515-523fb853ab02",
   "metadata": {},
   "source": [
    "Step 8: saving and resolution setting"
   ]
  },
  {
   "cell_type": "code",
   "execution_count": 17,
   "id": "1e70543b-3f1a-43e7-88a5-531c42addb82",
   "metadata": {},
   "outputs": [
    {
     "data": {
      "image/png": "[encoded data removed]",
      "text/plain": [
       "<Figure size 432x288 with 1 Axes>"
      ]
     },
     "metadata": {
      "needs_background": "light"
     },
     "output_type": "display_data"
    }
   ],
   "source": [
    "lifeexp_sub[2015].hist(facecolor='#ff7524', bins=15,alpha=0.6, histtype='bar')\n",
    "plt.title ('life expectancy in 2015')\n",
    "plt.xlabel ('life expectancy')\n",
    "plt.ylabel ('frequency')\n",
    "plt.axis([10,90.0,0.0,45.0])\n",
    "plt.savefig('histo.png', dpi=150)"
   ]
  }
 ],
 "metadata": {
  "kernelspec": {
   "display_name": "Python 3 (ipykernel)",
   "language": "python",
   "name": "python3"
  },
  "language_info": {
   "codemirror_mode": {
    "name": "ipython",
    "version": 3
   },
   "file_extension": ".py",
   "mimetype": "text/x-python",
   "name": "python",
   "nbconvert_exporter": "python",
   "pygments_lexer": "ipython3",
   "version": "3.9.7"
  }
 },
 "nbformat": 4,
 "nbformat_minor": 5
}
